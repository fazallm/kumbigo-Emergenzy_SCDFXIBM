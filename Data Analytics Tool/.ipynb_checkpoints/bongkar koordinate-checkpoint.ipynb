{
 "cells": [
  {
   "cell_type": "code",
   "execution_count": 1,
   "metadata": {},
   "outputs": [
    {
     "ename": "ModuleNotFoundError",
     "evalue": "No module named 'geopandas'",
     "output_type": "error",
     "traceback": [
      "\u001b[1;31m---------------------------------------------------------------------------\u001b[0m",
      "\u001b[1;31mModuleNotFoundError\u001b[0m                       Traceback (most recent call last)",
      "\u001b[1;32m<ipython-input-1-9d0e9ff3fe07>\u001b[0m in \u001b[0;36m<module>\u001b[1;34m\u001b[0m\n\u001b[0;32m      1\u001b[0m \u001b[1;32mimport\u001b[0m \u001b[0mpandas\u001b[0m \u001b[1;32mas\u001b[0m \u001b[0mpd\u001b[0m\u001b[1;33m\u001b[0m\u001b[1;33m\u001b[0m\u001b[0m\n\u001b[1;32m----> 2\u001b[1;33m \u001b[1;32mimport\u001b[0m \u001b[0mgeopandas\u001b[0m \u001b[1;32mas\u001b[0m \u001b[0mgp\u001b[0m\u001b[1;33m\u001b[0m\u001b[1;33m\u001b[0m\u001b[0m\n\u001b[0m\u001b[0;32m      3\u001b[0m \u001b[1;32mimport\u001b[0m \u001b[0mmatplotlib\u001b[0m\u001b[1;33m.\u001b[0m\u001b[0mpyplot\u001b[0m \u001b[1;32mas\u001b[0m \u001b[0mplt\u001b[0m\u001b[1;33m\u001b[0m\u001b[1;33m\u001b[0m\u001b[0m\n\u001b[0;32m      4\u001b[0m \u001b[1;32mimport\u001b[0m \u001b[0mfiona\u001b[0m\u001b[1;33m\u001b[0m\u001b[1;33m\u001b[0m\u001b[0m\n\u001b[0;32m      5\u001b[0m \u001b[1;32mimport\u001b[0m \u001b[0mshapely\u001b[0m\u001b[1;33m\u001b[0m\u001b[1;33m\u001b[0m\u001b[0m\n",
      "\u001b[1;31mModuleNotFoundError\u001b[0m: No module named 'geopandas'"
     ]
    }
   ],
   "source": [
    "import pandas as pd\n",
    "import geopandas as gp\n",
    "import matplotlib.pyplot as plt \n",
    "import fiona\n",
    "import shapely\n",
    "import numpy as np\n",
    "import random\n",
    "import math"
   ]
  },
  {
   "cell_type": "code",
   "execution_count": 2,
   "metadata": {},
   "outputs": [],
   "source": [
    "fp = \"G_MP14_RAIL_LI.shp\"\n",
    "\n",
    "data = gp.read_file(fp)"
   ]
  },
  {
   "cell_type": "code",
   "execution_count": 56,
   "metadata": {},
   "outputs": [
    {
     "name": "stderr",
     "output_type": "stream",
     "text": [
      "/opt/anaconda3/lib/python3.7/site-packages/ipykernel_launcher.py:9: FionaDeprecationWarning: Use fiona.Env() instead.\n",
      "  if __name__ == '__main__':\n"
     ]
    }
   ],
   "source": [
    "#Enable fiona driver\n",
    "gp.io.file.fiona.drvsupport.supported_drivers['KML'] = 'rw'\n",
    "\n",
    "# Read file\n",
    "path = '../G_MP14_RAIL_LI.kml'\n",
    "df = gp.read_file(path, driver='KML')\n",
    "\n",
    "# Write file\n",
    "with fiona.drivers():\n",
    "    # Might throw a WARNING - CPLE_NotSupported in b'dataset sample_out.kml does not support layer creation option ENCODING'\n",
    "    df.to_file('sample_out.kml', driver='KML')\n",
    "    \n",
    "# Drop Z dimension of polygons that occurs often in kml \n",
    "import shapely\n",
    "df.geometry = df.geometry.map(lambda polygon: shapely.ops.transform(lambda x, y, z: (x, y), polygon))\n"
   ]
  },
  {
   "cell_type": "code",
   "execution_count": 57,
   "metadata": {},
   "outputs": [
    {
     "data": {
      "text/plain": [
       "0       MULTILINESTRING ((103.85210 1.29351, 103.85209...\n",
       "1       MULTILINESTRING ((103.85210 1.29351, 103.85209...\n",
       "2       MULTILINESTRING ((103.84537 1.29905, 103.84537...\n",
       "3       MULTILINESTRING ((103.84533 1.29892, 103.84533...\n",
       "4       MULTILINESTRING ((103.83833 1.30039, 103.83802...\n",
       "                              ...                        \n",
       "1392    MULTILINESTRING ((103.83446 1.39428, 103.83446...\n",
       "1393    MULTILINESTRING ((103.83441 1.39427, 103.83441...\n",
       "1394    MULTILINESTRING ((103.87117 1.28550, 103.87117...\n",
       "1395    MULTILINESTRING ((103.93288 1.33675, 103.93300...\n",
       "1396    MULTILINESTRING ((103.93287 1.33661, 103.93291...\n",
       "Name: geometry, Length: 1397, dtype: geometry"
      ]
     },
     "execution_count": 57,
     "metadata": {},
     "output_type": "execute_result"
    }
   ],
   "source": [
    "df['geometry']"
   ]
  },
  {
   "cell_type": "code",
   "execution_count": 58,
   "metadata": {},
   "outputs": [
    {
     "data": {
      "text/html": [
       "<div>\n",
       "<style scoped>\n",
       "    .dataframe tbody tr th:only-of-type {\n",
       "        vertical-align: middle;\n",
       "    }\n",
       "\n",
       "    .dataframe tbody tr th {\n",
       "        vertical-align: top;\n",
       "    }\n",
       "\n",
       "    .dataframe thead th {\n",
       "        text-align: right;\n",
       "    }\n",
       "</style>\n",
       "<table border=\"1\" class=\"dataframe\">\n",
       "  <thead>\n",
       "    <tr style=\"text-align: right;\">\n",
       "      <th></th>\n",
       "      <th>OBJECTID</th>\n",
       "      <th>OID_1</th>\n",
       "      <th>GRND_LEVEL</th>\n",
       "      <th>TYPE</th>\n",
       "      <th>INC_CRC</th>\n",
       "      <th>FMEL_UPD_D</th>\n",
       "      <th>X_ADDR</th>\n",
       "      <th>Y_ADDR</th>\n",
       "      <th>SHAPE_Leng</th>\n",
       "      <th>geometry</th>\n",
       "    </tr>\n",
       "  </thead>\n",
       "  <tbody>\n",
       "    <tr>\n",
       "      <td>0</td>\n",
       "      <td>1</td>\n",
       "      <td>0</td>\n",
       "      <td>UNDERGROUND</td>\n",
       "      <td>MRT</td>\n",
       "      <td>43215EF9C877C56F</td>\n",
       "      <td>2014-06-23</td>\n",
       "      <td>29859.1013</td>\n",
       "      <td>30997.7625</td>\n",
       "      <td>826.574555</td>\n",
       "      <td>LINESTRING (29513.376 31211.449, 29513.618 312...</td>\n",
       "    </tr>\n",
       "    <tr>\n",
       "      <td>1</td>\n",
       "      <td>2</td>\n",
       "      <td>0</td>\n",
       "      <td>UNDERGROUND</td>\n",
       "      <td>MRT</td>\n",
       "      <td>6105B200FED9F6AB</td>\n",
       "      <td>2014-06-23</td>\n",
       "      <td>29847.8403</td>\n",
       "      <td>30983.1468</td>\n",
       "      <td>815.626905</td>\n",
       "      <td>LINESTRING (29508.584 31196.830, 29508.817 311...</td>\n",
       "    </tr>\n",
       "    <tr>\n",
       "      <td>2</td>\n",
       "      <td>3</td>\n",
       "      <td>0</td>\n",
       "      <td>UNDERGROUND</td>\n",
       "      <td>MRT</td>\n",
       "      <td>11D377899E972359</td>\n",
       "      <td>2014-06-23</td>\n",
       "      <td>29043.1323</td>\n",
       "      <td>31328.9357</td>\n",
       "      <td>610.083840</td>\n",
       "      <td>LINESTRING (28744.000 31388.314, 28820.801 313...</td>\n",
       "    </tr>\n",
       "    <tr>\n",
       "      <td>3</td>\n",
       "      <td>4</td>\n",
       "      <td>0</td>\n",
       "      <td>UNDERGROUND</td>\n",
       "      <td>MRT</td>\n",
       "      <td>8743FDEC51A13827</td>\n",
       "      <td>2014-06-23</td>\n",
       "      <td>29039.5927</td>\n",
       "      <td>31316.4599</td>\n",
       "      <td>608.693508</td>\n",
       "      <td>LINESTRING (28740.927 31374.606, 28809.279 313...</td>\n",
       "    </tr>\n",
       "    <tr>\n",
       "      <td>4</td>\n",
       "      <td>5</td>\n",
       "      <td>0</td>\n",
       "      <td>UNDERGROUND</td>\n",
       "      <td>MRT</td>\n",
       "      <td>8D1604C6958EBC87</td>\n",
       "      <td>2014-06-23</td>\n",
       "      <td>28136.7387</td>\n",
       "      <td>31429.3362</td>\n",
       "      <td>854.419016</td>\n",
       "      <td>LINESTRING (27871.646 31719.024, 27871.921 317...</td>\n",
       "    </tr>\n",
       "    <tr>\n",
       "      <td>...</td>\n",
       "      <td>...</td>\n",
       "      <td>...</td>\n",
       "      <td>...</td>\n",
       "      <td>...</td>\n",
       "      <td>...</td>\n",
       "      <td>...</td>\n",
       "      <td>...</td>\n",
       "      <td>...</td>\n",
       "      <td>...</td>\n",
       "      <td>...</td>\n",
       "    </tr>\n",
       "    <tr>\n",
       "      <td>1394</td>\n",
       "      <td>1395</td>\n",
       "      <td>0</td>\n",
       "      <td>ABOVEGROUND</td>\n",
       "      <td>MRT</td>\n",
       "      <td>C4A81D72C19F0FB1</td>\n",
       "      <td>2014-06-23</td>\n",
       "      <td>28146.8723</td>\n",
       "      <td>41785.7053</td>\n",
       "      <td>47.436025</td>\n",
       "      <td>LINESTRING (28166.957 41773.089, 28166.118 417...</td>\n",
       "    </tr>\n",
       "    <tr>\n",
       "      <td>1395</td>\n",
       "      <td>1396</td>\n",
       "      <td>0</td>\n",
       "      <td>ABOVEGROUND</td>\n",
       "      <td>MRT</td>\n",
       "      <td>F8D322A23246EFF5</td>\n",
       "      <td>2014-06-23</td>\n",
       "      <td>28142.1483</td>\n",
       "      <td>41783.5963</td>\n",
       "      <td>49.979993</td>\n",
       "      <td>LINESTRING (28163.310 41770.304, 28162.141 417...</td>\n",
       "    </tr>\n",
       "    <tr>\n",
       "      <td>1396</td>\n",
       "      <td>1397</td>\n",
       "      <td>0</td>\n",
       "      <td>UNDERGROUND</td>\n",
       "      <td>MRT</td>\n",
       "      <td>4D22380084C39AFD</td>\n",
       "      <td>2014-06-23</td>\n",
       "      <td>32235.2111</td>\n",
       "      <td>29744.2289</td>\n",
       "      <td>95.977346</td>\n",
       "      <td>LINESTRING (32212.536 29769.499, 32235.719 297...</td>\n",
       "    </tr>\n",
       "    <tr>\n",
       "      <td>1397</td>\n",
       "      <td>1398</td>\n",
       "      <td>0</td>\n",
       "      <td>UNDERGROUND</td>\n",
       "      <td>MRT</td>\n",
       "      <td>56222C78A49CB84D</td>\n",
       "      <td>2014-06-23</td>\n",
       "      <td>39359.8106</td>\n",
       "      <td>35450.3667</td>\n",
       "      <td>561.372407</td>\n",
       "      <td>LINESTRING (39638.135 35484.169, 39632.161 354...</td>\n",
       "    </tr>\n",
       "    <tr>\n",
       "      <td>1398</td>\n",
       "      <td>1399</td>\n",
       "      <td>0</td>\n",
       "      <td>UNDERGROUND</td>\n",
       "      <td>MRT</td>\n",
       "      <td>B342157470B5AD4A</td>\n",
       "      <td>2014-06-23</td>\n",
       "      <td>39363.8663</td>\n",
       "      <td>35440.7655</td>\n",
       "      <td>571.576093</td>\n",
       "      <td>LINESTRING (39647.329 35474.779, 39641.513 354...</td>\n",
       "    </tr>\n",
       "  </tbody>\n",
       "</table>\n",
       "<p>1399 rows × 10 columns</p>\n",
       "</div>"
      ],
      "text/plain": [
       "      OBJECTID  OID_1   GRND_LEVEL TYPE           INC_CRC  FMEL_UPD_D  \\\n",
       "0            1      0  UNDERGROUND  MRT  43215EF9C877C56F  2014-06-23   \n",
       "1            2      0  UNDERGROUND  MRT  6105B200FED9F6AB  2014-06-23   \n",
       "2            3      0  UNDERGROUND  MRT  11D377899E972359  2014-06-23   \n",
       "3            4      0  UNDERGROUND  MRT  8743FDEC51A13827  2014-06-23   \n",
       "4            5      0  UNDERGROUND  MRT  8D1604C6958EBC87  2014-06-23   \n",
       "...        ...    ...          ...  ...               ...         ...   \n",
       "1394      1395      0  ABOVEGROUND  MRT  C4A81D72C19F0FB1  2014-06-23   \n",
       "1395      1396      0  ABOVEGROUND  MRT  F8D322A23246EFF5  2014-06-23   \n",
       "1396      1397      0  UNDERGROUND  MRT  4D22380084C39AFD  2014-06-23   \n",
       "1397      1398      0  UNDERGROUND  MRT  56222C78A49CB84D  2014-06-23   \n",
       "1398      1399      0  UNDERGROUND  MRT  B342157470B5AD4A  2014-06-23   \n",
       "\n",
       "          X_ADDR      Y_ADDR  SHAPE_Leng  \\\n",
       "0     29859.1013  30997.7625  826.574555   \n",
       "1     29847.8403  30983.1468  815.626905   \n",
       "2     29043.1323  31328.9357  610.083840   \n",
       "3     29039.5927  31316.4599  608.693508   \n",
       "4     28136.7387  31429.3362  854.419016   \n",
       "...          ...         ...         ...   \n",
       "1394  28146.8723  41785.7053   47.436025   \n",
       "1395  28142.1483  41783.5963   49.979993   \n",
       "1396  32235.2111  29744.2289   95.977346   \n",
       "1397  39359.8106  35450.3667  561.372407   \n",
       "1398  39363.8663  35440.7655  571.576093   \n",
       "\n",
       "                                               geometry  \n",
       "0     LINESTRING (29513.376 31211.449, 29513.618 312...  \n",
       "1     LINESTRING (29508.584 31196.830, 29508.817 311...  \n",
       "2     LINESTRING (28744.000 31388.314, 28820.801 313...  \n",
       "3     LINESTRING (28740.927 31374.606, 28809.279 313...  \n",
       "4     LINESTRING (27871.646 31719.024, 27871.921 317...  \n",
       "...                                                 ...  \n",
       "1394  LINESTRING (28166.957 41773.089, 28166.118 417...  \n",
       "1395  LINESTRING (28163.310 41770.304, 28162.141 417...  \n",
       "1396  LINESTRING (32212.536 29769.499, 32235.719 297...  \n",
       "1397  LINESTRING (39638.135 35484.169, 39632.161 354...  \n",
       "1398  LINESTRING (39647.329 35474.779, 39641.513 354...  \n",
       "\n",
       "[1399 rows x 10 columns]"
      ]
     },
     "execution_count": 58,
     "metadata": {},
     "output_type": "execute_result"
    }
   ],
   "source": [
    "data"
   ]
  },
  {
   "cell_type": "code",
   "execution_count": 59,
   "metadata": {},
   "outputs": [],
   "source": [
    "coba_pandas = pd.DataFrame(df.drop('geometry',axis=1))"
   ]
  },
  {
   "cell_type": "code",
   "execution_count": 60,
   "metadata": {},
   "outputs": [
    {
     "data": {
      "text/plain": [
       "'<html xmlns:fo=\"http://www.w3.org/1999/XSL/Format\" xmlns:msxsl=\"urn:schemas-microsoft-com:xslt\"> <head> <META http-equiv=\"Content-Type\" content=\"text/html\"> <meta http-equiv=\"content-type\" content=\"text/html; charset=UTF-8\"> </head> <body style=\"margin:0px 0px 0px 0px;overflow:auto;background:#FFFFFF;\"> <table style=\"font-family:Arial,Verdana,Times;font-size:12px;text-align:left;width:100%;border-collapse:collapse;padding:3px 3px 3px 3px\"> <tr style=\"text-align:center;font-weight:bold;background:#9CBCE2\"> <td>UNDERGROUND</td> </tr> <tr> <td> <table style=\"font-family:Arial,Verdana,Times;font-size:12px;text-align:left;width:100%;border-spacing:0px; padding:3px 3px 3px 3px\"> <tr> <td>SHAPE</td> <td>Polyline</td> </tr> <tr bgcolor=\"#D4E4F3\"> <td>Object ID</td> <td>&lt;Null&gt;</td> </tr> <tr> <td>Ground Level</td> <td>UNDERGROUND</td> </tr> <tr bgcolor=\"#D4E4F3\"> <td>Type</td> <td>MRT</td> </tr> <tr> <td>INC_CRC</td> <td>43215EF9C877C56F</td> </tr> <tr bgcolor=\"#D4E4F3\"> <td>FMEL_UPD_D</td> <td>6/23/2014 4:57:23 PM</td> </tr> <tr> <td>X_ADDR</td> <td>29859.1013</td> </tr> <tr bgcolor=\"#D4E4F3\"> <td>Y_ADDR</td> <td>30997.7625</td> </tr> <tr> <td>SHAPE_Length</td> <td>826.574555</td> </tr> </table> </td> </tr> </table> </body> </html>'"
      ]
     },
     "execution_count": 60,
     "metadata": {},
     "output_type": "execute_result"
    }
   ],
   "source": [
    "coba_pandas['Description'][0]"
   ]
  },
  {
   "cell_type": "code",
   "execution_count": 61,
   "metadata": {},
   "outputs": [
    {
     "data": {
      "text/plain": [
       "35B20EAC09D3096B    2\n",
       "C50B2F67EC1D2A25    1\n",
       "C69A2C944C62013C    1\n",
       "7A621ACBEB21AED2    1\n",
       "90C7DAB0765EAAED    1\n",
       "                   ..\n",
       "F7356CE8B4A39B93    1\n",
       "E70A537943BD0021    1\n",
       "9332992882DF99DB    1\n",
       "2116A17E7B2EFC99    1\n",
       "754F02E27371722D    1\n",
       "Name: 0, Length: 1396, dtype: int64"
      ]
     },
     "execution_count": 61,
     "metadata": {},
     "output_type": "execute_result"
    }
   ],
   "source": [
    "a = coba_pandas['Description'].str.extract('(?:INC_CRC</td>\\s<td>)(.*?)(?:</td>)')\n",
    "\n",
    "a[0].value_counts()"
   ]
  },
  {
   "cell_type": "code",
   "execution_count": 62,
   "metadata": {
    "scrolled": true
   },
   "outputs": [
    {
     "data": {
      "text/html": [
       "<div>\n",
       "<style scoped>\n",
       "    .dataframe tbody tr th:only-of-type {\n",
       "        vertical-align: middle;\n",
       "    }\n",
       "\n",
       "    .dataframe tbody tr th {\n",
       "        vertical-align: top;\n",
       "    }\n",
       "\n",
       "    .dataframe thead th {\n",
       "        text-align: right;\n",
       "    }\n",
       "</style>\n",
       "<table border=\"1\" class=\"dataframe\">\n",
       "  <thead>\n",
       "    <tr style=\"text-align: right;\">\n",
       "      <th></th>\n",
       "      <th>Name</th>\n",
       "      <th>Description</th>\n",
       "      <th>geometry</th>\n",
       "      <th>INC_CRC</th>\n",
       "    </tr>\n",
       "  </thead>\n",
       "  <tbody>\n",
       "    <tr>\n",
       "      <td>0</td>\n",
       "      <td>UNDERGROUND</td>\n",
       "      <td>&lt;html xmlns:fo=\"http://www.w3.org/1999/XSL/For...</td>\n",
       "      <td>MULTILINESTRING ((103.85210 1.29351, 103.85209...</td>\n",
       "      <td>43215EF9C877C56F</td>\n",
       "    </tr>\n",
       "    <tr>\n",
       "      <td>1</td>\n",
       "      <td>UNDERGROUND</td>\n",
       "      <td>&lt;html xmlns:fo=\"http://www.w3.org/1999/XSL/For...</td>\n",
       "      <td>MULTILINESTRING ((103.85210 1.29351, 103.85209...</td>\n",
       "      <td>6105B200FED9F6AB</td>\n",
       "    </tr>\n",
       "    <tr>\n",
       "      <td>2</td>\n",
       "      <td>UNDERGROUND</td>\n",
       "      <td>&lt;html xmlns:fo=\"http://www.w3.org/1999/XSL/For...</td>\n",
       "      <td>MULTILINESTRING ((103.84537 1.29905, 103.84537...</td>\n",
       "      <td>11D377899E972359</td>\n",
       "    </tr>\n",
       "    <tr>\n",
       "      <td>3</td>\n",
       "      <td>UNDERGROUND</td>\n",
       "      <td>&lt;html xmlns:fo=\"http://www.w3.org/1999/XSL/For...</td>\n",
       "      <td>MULTILINESTRING ((103.84533 1.29892, 103.84533...</td>\n",
       "      <td>8743FDEC51A13827</td>\n",
       "    </tr>\n",
       "    <tr>\n",
       "      <td>4</td>\n",
       "      <td>UNDERGROUND</td>\n",
       "      <td>&lt;html xmlns:fo=\"http://www.w3.org/1999/XSL/For...</td>\n",
       "      <td>MULTILINESTRING ((103.83833 1.30039, 103.83802...</td>\n",
       "      <td>8D1604C6958EBC87</td>\n",
       "    </tr>\n",
       "    <tr>\n",
       "      <td>...</td>\n",
       "      <td>...</td>\n",
       "      <td>...</td>\n",
       "      <td>...</td>\n",
       "      <td>...</td>\n",
       "    </tr>\n",
       "    <tr>\n",
       "      <td>1392</td>\n",
       "      <td>ABOVEGROUND</td>\n",
       "      <td>&lt;html xmlns:fo=\"http://www.w3.org/1999/XSL/For...</td>\n",
       "      <td>MULTILINESTRING ((103.83446 1.39428, 103.83446...</td>\n",
       "      <td>C4A81D72C19F0FB1</td>\n",
       "    </tr>\n",
       "    <tr>\n",
       "      <td>1393</td>\n",
       "      <td>ABOVEGROUND</td>\n",
       "      <td>&lt;html xmlns:fo=\"http://www.w3.org/1999/XSL/For...</td>\n",
       "      <td>MULTILINESTRING ((103.83441 1.39427, 103.83441...</td>\n",
       "      <td>F8D322A23246EFF5</td>\n",
       "    </tr>\n",
       "    <tr>\n",
       "      <td>1394</td>\n",
       "      <td>UNDERGROUND</td>\n",
       "      <td>&lt;html xmlns:fo=\"http://www.w3.org/1999/XSL/For...</td>\n",
       "      <td>MULTILINESTRING ((103.87117 1.28550, 103.87117...</td>\n",
       "      <td>4D22380084C39AFD</td>\n",
       "    </tr>\n",
       "    <tr>\n",
       "      <td>1395</td>\n",
       "      <td>UNDERGROUND</td>\n",
       "      <td>&lt;html xmlns:fo=\"http://www.w3.org/1999/XSL/For...</td>\n",
       "      <td>MULTILINESTRING ((103.93288 1.33675, 103.93300...</td>\n",
       "      <td>56222C78A49CB84D</td>\n",
       "    </tr>\n",
       "    <tr>\n",
       "      <td>1396</td>\n",
       "      <td>UNDERGROUND</td>\n",
       "      <td>&lt;html xmlns:fo=\"http://www.w3.org/1999/XSL/For...</td>\n",
       "      <td>MULTILINESTRING ((103.93287 1.33661, 103.93291...</td>\n",
       "      <td>B342157470B5AD4A</td>\n",
       "    </tr>\n",
       "  </tbody>\n",
       "</table>\n",
       "<p>1397 rows × 4 columns</p>\n",
       "</div>"
      ],
      "text/plain": [
       "             Name                                        Description  \\\n",
       "0     UNDERGROUND  <html xmlns:fo=\"http://www.w3.org/1999/XSL/For...   \n",
       "1     UNDERGROUND  <html xmlns:fo=\"http://www.w3.org/1999/XSL/For...   \n",
       "2     UNDERGROUND  <html xmlns:fo=\"http://www.w3.org/1999/XSL/For...   \n",
       "3     UNDERGROUND  <html xmlns:fo=\"http://www.w3.org/1999/XSL/For...   \n",
       "4     UNDERGROUND  <html xmlns:fo=\"http://www.w3.org/1999/XSL/For...   \n",
       "...           ...                                                ...   \n",
       "1392  ABOVEGROUND  <html xmlns:fo=\"http://www.w3.org/1999/XSL/For...   \n",
       "1393  ABOVEGROUND  <html xmlns:fo=\"http://www.w3.org/1999/XSL/For...   \n",
       "1394  UNDERGROUND  <html xmlns:fo=\"http://www.w3.org/1999/XSL/For...   \n",
       "1395  UNDERGROUND  <html xmlns:fo=\"http://www.w3.org/1999/XSL/For...   \n",
       "1396  UNDERGROUND  <html xmlns:fo=\"http://www.w3.org/1999/XSL/For...   \n",
       "\n",
       "                                               geometry           INC_CRC  \n",
       "0     MULTILINESTRING ((103.85210 1.29351, 103.85209...  43215EF9C877C56F  \n",
       "1     MULTILINESTRING ((103.85210 1.29351, 103.85209...  6105B200FED9F6AB  \n",
       "2     MULTILINESTRING ((103.84537 1.29905, 103.84537...  11D377899E972359  \n",
       "3     MULTILINESTRING ((103.84533 1.29892, 103.84533...  8743FDEC51A13827  \n",
       "4     MULTILINESTRING ((103.83833 1.30039, 103.83802...  8D1604C6958EBC87  \n",
       "...                                                 ...               ...  \n",
       "1392  MULTILINESTRING ((103.83446 1.39428, 103.83446...  C4A81D72C19F0FB1  \n",
       "1393  MULTILINESTRING ((103.83441 1.39427, 103.83441...  F8D322A23246EFF5  \n",
       "1394  MULTILINESTRING ((103.87117 1.28550, 103.87117...  4D22380084C39AFD  \n",
       "1395  MULTILINESTRING ((103.93288 1.33675, 103.93300...  56222C78A49CB84D  \n",
       "1396  MULTILINESTRING ((103.93287 1.33661, 103.93291...  B342157470B5AD4A  \n",
       "\n",
       "[1397 rows x 4 columns]"
      ]
     },
     "execution_count": 62,
     "metadata": {},
     "output_type": "execute_result"
    }
   ],
   "source": [
    "df['INC_CRC'] = coba_pandas['Description'].str.extract('(?:INC_CRC</td>\\s<td>)(.*?)(?:</td>)')\n",
    "# a.rename({0 : 'INC_CRC'},axis=1, inplace = True)\n",
    "df"
   ]
  },
  {
   "cell_type": "code",
   "execution_count": null,
   "metadata": {
    "scrolled": true
   },
   "outputs": [],
   "source": [
    "# for i in range(len(df['geometry'][0][0].xy[0])):\n",
    "#     print(i)\n",
    "\n",
    "# sorted(df['geometry'][0][0].xy[0], key = lambda k: random.random())\n",
    "len(df['geometry'][9][0].xy[0])\n",
    "# b = math.ceil(len(a)/5)\n",
    "# for i in range(b):\n",
    "#     print(i)\n",
    "# # random.sample(a, len(a)/5)"
   ]
  },
  {
   "cell_type": "code",
   "execution_count": 64,
   "metadata": {
    "scrolled": true
   },
   "outputs": [],
   "source": [
    "\n",
    "x = []\n",
    "y = []\n",
    "# for i in range(len(df)):\n",
    "#     x.append(df['geometry'][i][0].xy[0])\n",
    "#     y.append(df['geometry'][i][0].xy[0])\n",
    "for i in range(len(df)):\n",
    "    x1 = []\n",
    "    y1 = []\n",
    "\n",
    "    rand_x = sorted(df['geometry'][i][0].xy[0], key = lambda k: 1) \n",
    "    rand_y = sorted(df['geometry'][i][0].xy[1], key = lambda k: 1) \n",
    "    sampled = math.ceil(len(rand_x)/5)\n",
    "    \n",
    "    for j in range(sampled):\n",
    "        x1.append(rand_x[j])\n",
    "        y1.append(rand_y[j])\n",
    "    \n",
    "    x.append(x1)\n",
    "    y.append(y1)\n",
    "    \n",
    "\n",
    "\n",
    "    \n",
    "\n",
    "\n",
    "# x.append([i for i in df['geometry'].apply(lambda x: x_lat(x))])\n",
    "\n",
    "\n",
    "# x = [i for i in data['geometry'][0].xy[0]]\n",
    "# y = [i for i in data['geometry'][0].xy[1]]"
   ]
  },
  {
   "cell_type": "code",
   "execution_count": 67,
   "metadata": {},
   "outputs": [
    {
     "name": "stdout",
     "output_type": "stream",
     "text": [
      "0\n",
      "3\n",
      "6\n",
      "9\n"
     ]
    }
   ],
   "source": [
    "for j in range(0,12,3):\n",
    "    print(j)"
   ]
  },
  {
   "cell_type": "code",
   "execution_count": 72,
   "metadata": {},
   "outputs": [
    {
     "name": "stderr",
     "output_type": "stream",
     "text": [
      "100%|██████████| 10/10 [00:00<00:00, 28886.39it/s]"
     ]
    },
    {
     "name": "stdout",
     "output_type": "stream",
     "text": [
      "0\n",
      "1\n",
      "2\n",
      "3\n",
      "4\n",
      "5\n",
      "6\n",
      "7\n",
      "8\n",
      "9\n"
     ]
    },
    {
     "name": "stderr",
     "output_type": "stream",
     "text": [
      "\n"
     ]
    }
   ],
   "source": [
    "from tqdm import tqdm\n",
    "\n",
    "for i in tqdm(range(0,10)):\n",
    "    print(i)"
   ]
  },
  {
   "cell_type": "code",
   "execution_count": 74,
   "metadata": {
    "scrolled": true
   },
   "outputs": [
    {
     "name": "stderr",
     "output_type": "stream",
     "text": [
      "\n",
      "  0%|          | 0/1397 [00:00<?, ?it/s]\u001b[A\n",
      "  1%|          | 13/1397 [00:00<00:10, 126.21it/s]\u001b[A\n",
      "  3%|▎         | 48/1397 [00:00<00:08, 151.92it/s]\u001b[A\n",
      "  4%|▍         | 62/1397 [00:00<00:09, 141.99it/s]\u001b[A\n",
      "  5%|▌         | 74/1397 [00:00<00:10, 123.14it/s]\u001b[A\n",
      "  6%|▌         | 85/1397 [00:00<00:12, 103.52it/s]\u001b[A\n",
      "  7%|▋         | 95/1397 [00:01<00:30, 43.09it/s] \u001b[A\n",
      "  7%|▋         | 103/1397 [00:01<00:26, 49.66it/s]\u001b[A\n",
      "  8%|▊         | 113/1397 [00:01<00:22, 56.50it/s]\u001b[A\n",
      "  9%|▊         | 121/1397 [00:01<00:21, 59.36it/s]\u001b[A\n",
      "  9%|▉         | 129/1397 [00:01<00:20, 62.79it/s]\u001b[A\n",
      " 11%|█         | 157/1397 [00:01<00:15, 81.36it/s]\u001b[A\n",
      " 13%|█▎        | 180/1397 [00:01<00:12, 100.88it/s]\u001b[A\n",
      " 14%|█▍        | 197/1397 [00:02<00:13, 86.09it/s] \u001b[A\n",
      " 15%|█▌        | 211/1397 [00:02<00:12, 96.49it/s]\u001b[A\n",
      " 17%|█▋        | 240/1397 [00:02<00:09, 119.72it/s]\u001b[A\n",
      " 18%|█▊        | 258/1397 [00:03<00:33, 34.17it/s] \u001b[A\n",
      " 20%|██        | 281/1397 [00:03<00:24, 45.89it/s]\u001b[A\n",
      " 21%|██▏       | 297/1397 [00:04<00:25, 43.13it/s]\u001b[A\n",
      " 22%|██▏       | 313/1397 [00:04<00:19, 54.83it/s]\u001b[A\n",
      " 23%|██▎       | 326/1397 [00:04<00:24, 43.38it/s]\u001b[A\n",
      " 24%|██▍       | 337/1397 [00:05<00:29, 35.35it/s]\u001b[A\n",
      " 25%|██▍       | 345/1397 [00:06<01:13, 14.39it/s]\u001b[A\n",
      " 25%|██▌       | 351/1397 [00:07<01:25, 12.17it/s]\u001b[A\n",
      " 25%|██▌       | 356/1397 [00:07<01:18, 13.32it/s]\u001b[A\n",
      " 27%|██▋       | 377/1397 [00:07<00:56, 18.15it/s]\u001b[A\n",
      " 27%|██▋       | 384/1397 [00:07<00:44, 22.71it/s]\u001b[A\n",
      " 28%|██▊       | 390/1397 [00:08<01:09, 14.53it/s]\u001b[A\n",
      " 28%|██▊       | 395/1397 [00:09<01:39, 10.05it/s]\u001b[A\n",
      " 29%|██▊       | 399/1397 [00:09<01:44,  9.55it/s]\u001b[A\n",
      " 29%|██▉       | 402/1397 [00:10<01:42,  9.73it/s]\u001b[A\n",
      " 29%|██▉       | 405/1397 [00:10<01:28, 11.24it/s]\u001b[A\n",
      " 29%|██▉       | 407/1397 [00:10<01:22, 12.06it/s]\u001b[A\n",
      " 29%|██▉       | 411/1397 [00:10<01:13, 13.50it/s]\u001b[A\n",
      " 30%|██▉       | 416/1397 [00:10<00:58, 16.91it/s]\u001b[A\n",
      " 30%|███       | 424/1397 [00:10<00:44, 21.92it/s]\u001b[A\n",
      " 31%|███       | 428/1397 [00:11<01:12, 13.46it/s]\u001b[A\n",
      " 31%|███       | 431/1397 [00:11<01:15, 12.78it/s]\u001b[A\n",
      " 32%|███▏      | 444/1397 [00:12<00:59, 16.01it/s]\u001b[A\n",
      " 32%|███▏      | 447/1397 [00:12<01:19, 11.93it/s]\u001b[A\n",
      " 32%|███▏      | 450/1397 [00:13<02:48,  5.63it/s]\u001b[A\n",
      " 32%|███▏      | 452/1397 [00:13<02:20,  6.71it/s]\u001b[A\n",
      " 33%|███▎      | 459/1397 [00:13<01:42,  9.16it/s]\u001b[A\n",
      " 33%|███▎      | 462/1397 [00:14<01:32, 10.15it/s]\u001b[A\n",
      " 33%|███▎      | 465/1397 [00:14<01:27, 10.66it/s]\u001b[A\n",
      " 34%|███▎      | 468/1397 [00:14<01:17, 12.06it/s]\u001b[A\n",
      " 34%|███▎      | 470/1397 [00:14<01:32, 10.07it/s]\u001b[A\n",
      " 35%|███▍      | 483/1397 [00:15<01:05, 13.86it/s]\u001b[A\n",
      " 35%|███▌      | 491/1397 [00:15<00:49, 18.42it/s]\u001b[A\n",
      " 36%|███▌      | 497/1397 [00:17<02:10,  6.89it/s]\u001b[A\n",
      " 38%|███▊      | 531/1397 [00:17<01:29,  9.72it/s]\u001b[A\n",
      " 39%|███▊      | 541/1397 [00:20<02:24,  5.93it/s]\u001b[A\n",
      " 39%|███▉      | 549/1397 [00:22<02:46,  5.08it/s]\u001b[A\n",
      " 40%|███▉      | 555/1397 [00:30<07:38,  1.84it/s]\u001b[A\n",
      " 40%|████      | 559/1397 [00:36<11:33,  1.21it/s]\u001b[A\n",
      " 40%|████      | 562/1397 [00:36<08:13,  1.69it/s]\u001b[A\n",
      " 41%|████      | 567/1397 [00:37<05:58,  2.32it/s]\u001b[A\n",
      " 41%|████      | 570/1397 [00:37<04:33,  3.02it/s]\u001b[A\n",
      " 41%|████      | 572/1397 [00:37<03:32,  3.88it/s]\u001b[A\n",
      " 41%|████      | 574/1397 [00:38<03:23,  4.05it/s]\u001b[A\n",
      " 43%|████▎     | 597/1397 [00:38<02:19,  5.74it/s]\u001b[A\n",
      " 43%|████▎     | 605/1397 [00:38<01:51,  7.08it/s]\u001b[A\n",
      " 44%|████▍     | 615/1397 [00:38<01:19,  9.81it/s]\u001b[A\n",
      " 45%|████▌     | 632/1397 [00:39<00:59, 12.85it/s]\u001b[A\n",
      " 46%|████▋     | 649/1397 [00:39<00:42, 17.61it/s]\u001b[A\n",
      " 48%|████▊     | 672/1397 [00:39<00:29, 24.29it/s]\u001b[A\n",
      " 50%|████▉     | 696/1397 [00:39<00:21, 33.23it/s]\u001b[A\n",
      " 53%|█████▎    | 746/1397 [00:39<00:14, 46.02it/s]\u001b[A\n",
      " 55%|█████▌    | 774/1397 [00:39<00:10, 61.35it/s]\u001b[A\n",
      " 57%|█████▋    | 800/1397 [00:40<00:11, 52.18it/s]\u001b[A\n",
      " 59%|█████▊    | 819/1397 [00:40<00:09, 63.64it/s]\u001b[A\n",
      " 62%|██████▏   | 861/1397 [00:40<00:06, 84.81it/s]\u001b[A\n",
      " 63%|██████▎   | 885/1397 [00:41<00:07, 72.56it/s]\u001b[A\n",
      " 65%|██████▌   | 915/1397 [00:41<00:05, 92.82it/s]\u001b[A\n",
      " 68%|██████▊   | 950/1397 [00:41<00:03, 118.47it/s]\u001b[A\n",
      " 70%|██████▉   | 975/1397 [00:41<00:03, 114.33it/s]\u001b[A\n",
      " 70%|██████▉   | 975/1397 [00:56<00:03, 114.33it/s]\u001b[A\n",
      " 70%|██████▉   | 977/1397 [00:58<17:48,  2.54s/it] \u001b[A\n",
      " 70%|███████   | 979/1397 [00:58<12:53,  1.85s/it]\u001b[A\n",
      " 70%|███████   | 980/1397 [01:01<13:28,  1.94s/it]\u001b[A\n",
      " 70%|███████   | 981/1397 [01:01<10:12,  1.47s/it]\u001b[A\n",
      " 70%|███████   | 982/1397 [01:01<07:29,  1.08s/it]\u001b[A\n",
      " 70%|███████   | 983/1397 [01:01<05:40,  1.22it/s]\u001b[A\n",
      " 71%|███████   | 985/1397 [01:02<04:27,  1.54it/s]\u001b[A\n",
      " 71%|███████   | 986/1397 [01:02<03:31,  1.94it/s]\u001b[A\n",
      " 71%|███████   | 987/1397 [01:02<02:59,  2.29it/s]\u001b[A\n",
      " 71%|███████   | 988/1397 [01:03<02:59,  2.28it/s]\u001b[A\n",
      " 71%|███████   | 990/1397 [01:03<02:13,  3.06it/s]\u001b[A\n",
      " 71%|███████   | 991/1397 [01:03<02:04,  3.27it/s]\u001b[A\n",
      " 71%|███████   | 992/1397 [01:03<01:51,  3.62it/s]\u001b[A\n",
      " 71%|███████   | 993/1397 [01:04<02:18,  2.91it/s]\u001b[A\n",
      " 71%|███████   | 994/1397 [01:05<03:11,  2.10it/s]\u001b[A\n",
      " 71%|███████▏  | 996/1397 [01:06<03:06,  2.15it/s]\u001b[A\n",
      " 72%|███████▏  | 1000/1397 [01:25<11:46,  1.78s/it]\u001b[A\n",
      " 72%|███████▏  | 1001/1397 [01:25<08:44,  1.32s/it]\u001b[A\n",
      " 72%|███████▏  | 1002/1397 [02:29<2:11:38, 20.00s/it]\u001b[A\n",
      " 72%|███████▏  | 1003/1397 [04:49<6:07:19, 55.94s/it]\u001b[A\n",
      " 72%|███████▏  | 1005/1397 [04:57<4:24:14, 40.44s/it]\u001b[A\n",
      " 72%|███████▏  | 1006/1397 [05:04<3:17:45, 30.35s/it]\u001b[A\n",
      " 72%|███████▏  | 1007/1397 [05:06<2:22:18, 21.89s/it]\u001b[A\n",
      " 72%|███████▏  | 1008/1397 [05:38<2:41:36, 24.93s/it]\u001b[A\n",
      " 72%|███████▏  | 1009/1397 [06:43<3:58:40, 36.91s/it]\u001b[A\n",
      " 72%|███████▏  | 1010/1397 [06:44<2:48:20, 26.10s/it]\u001b[A\n",
      " 72%|███████▏  | 1011/1397 [06:49<2:07:50, 19.87s/it]\u001b[A\n",
      " 72%|███████▏  | 1012/1397 [07:21<2:31:11, 23.56s/it]\u001b[A\n",
      " 73%|███████▎  | 1013/1397 [09:01<4:56:54, 46.39s/it]\u001b[A\n",
      " 73%|███████▎  | 1020/1397 [09:01<3:24:04, 32.48s/it]\u001b[A\n",
      " 74%|███████▍  | 1031/1397 [09:01<2:18:42, 22.74s/it]\u001b[A\n",
      " 74%|███████▍  | 1039/1397 [09:02<1:35:09, 15.95s/it]\u001b[A\n",
      " 74%|███████▍  | 1039/1397 [09:17<1:35:09, 15.95s/it]\u001b[A\n",
      " 74%|███████▍  | 1040/1397 [09:26<1:48:58, 18.32s/it]\u001b[A\n",
      " 75%|███████▍  | 1043/1397 [09:26<1:15:43, 12.83s/it]\u001b[A\n",
      " 76%|███████▌  | 1058/1397 [09:26<50:46,  8.99s/it]  \u001b[A\n",
      " 77%|███████▋  | 1078/1397 [09:26<33:27,  6.29s/it]\u001b[A\n",
      " 78%|███████▊  | 1086/1397 [09:31<23:42,  4.57s/it]\u001b[A\n",
      " 78%|███████▊  | 1092/1397 [09:34<17:02,  3.35s/it]\u001b[A\n",
      " 78%|███████▊  | 1096/1397 [09:34<11:53,  2.37s/it]\u001b[A\n",
      " 80%|███████▉  | 1113/1397 [09:34<07:52,  1.66s/it]\u001b[A\n",
      " 80%|████████  | 1118/1397 [09:35<05:27,  1.17s/it]\u001b[A\n",
      " 80%|████████  | 1123/1397 [09:35<03:49,  1.20it/s]\u001b[A\n",
      " 81%|████████  | 1131/1397 [09:35<02:36,  1.70it/s]\u001b[A\n",
      " 81%|████████▏ | 1136/1397 [09:35<01:56,  2.25it/s]\u001b[A\n",
      " 81%|████████▏ | 1136/1397 [09:47<01:56,  2.25it/s]\u001b[A\n",
      " 82%|████████▏ | 1140/1397 [10:44<23:22,  5.46s/it]\u001b[A\n",
      " 82%|████████▏ | 1141/1397 [20:30<12:45:49, 179.49s/it]\u001b[A\n",
      " 82%|████████▏ | 1142/1397 [21:57<10:45:34, 151.90s/it]\u001b[A\n",
      " 82%|████████▏ | 1143/1397 [24:47<11:05:47, 157.28s/it]\u001b[A\n",
      " 82%|████████▏ | 1144/1397 [27:35<11:16:52, 160.52s/it]\u001b[A\n",
      " 82%|████████▏ | 1145/1397 [31:00<12:10:14, 173.87s/it]\u001b[A\n",
      " 82%|████████▏ | 1146/1397 [34:37<13:01:08, 186.73s/it]\u001b[A\n",
      " 82%|████████▏ | 1147/1397 [36:06<10:55:59, 157.44s/it]\u001b[A\n",
      " 82%|████████▏ | 1148/1397 [40:05<12:35:07, 181.96s/it]\u001b[A\n",
      " 82%|████████▏ | 1149/1397 [40:08<8:50:03, 128.24s/it] \u001b[A\n",
      " 82%|████████▏ | 1150/1397 [41:34<7:55:18, 115.46s/it]\u001b[A\n",
      " 82%|████████▏ | 1151/1397 [41:36<5:34:40, 81.63s/it] \u001b[A\n",
      " 82%|████████▏ | 1152/1397 [44:01<6:50:57, 100.64s/it]\u001b[A\n",
      " 83%|████████▎ | 1153/1397 [46:48<8:09:40, 120.41s/it]\u001b[A\n",
      " 83%|████████▎ | 1154/1397 [49:29<8:57:44, 132.78s/it]\u001b[A\n",
      " 83%|████████▎ | 1155/1397 [51:21<8:29:39, 126.36s/it]\u001b[A\n",
      " 83%|████████▎ | 1157/1397 [51:21<5:53:54, 88.48s/it] \u001b[A\n",
      " 83%|████████▎ | 1163/1397 [51:21<4:01:34, 61.94s/it]\u001b[A\n",
      " 83%|████████▎ | 1165/1397 [51:21<2:47:49, 43.40s/it]\u001b[A\n",
      " 84%|████████▍ | 1172/1397 [51:22<1:53:57, 30.39s/it]\u001b[A\n",
      " 84%|████████▍ | 1176/1397 [51:22<1:18:28, 21.31s/it]\u001b[A\n",
      " 84%|████████▍ | 1179/1397 [51:23<54:34, 15.02s/it]  \u001b[A\n",
      " 85%|████████▍ | 1182/1397 [51:23<37:42, 10.52s/it]\u001b[A\n",
      " 85%|████████▌ | 1191/1397 [51:23<25:18,  7.37s/it]\u001b[A\n",
      " 85%|████████▌ | 1191/1397 [51:38<25:18,  7.37s/it]\u001b[A\n",
      " 85%|████████▌ | 1193/1397 [52:52<1:02:59, 18.53s/it]\u001b[A\n",
      " 86%|████████▌ | 1197/1397 [52:53<43:15, 12.98s/it]  \u001b[A\n",
      " 86%|████████▌ | 1198/1397 [52:53<30:17,  9.14s/it]\u001b[A\n",
      " 86%|████████▌ | 1199/1397 [52:53<21:16,  6.45s/it]\u001b[A\n",
      " 87%|████████▋ | 1211/1397 [52:54<14:03,  4.53s/it]\u001b[A\n",
      " 87%|████████▋ | 1213/1397 [52:54<09:59,  3.26s/it]\u001b[A\n",
      " 87%|████████▋ | 1214/1397 [52:54<07:09,  2.35s/it]\u001b[A\n",
      " 87%|████████▋ | 1217/1397 [52:55<04:58,  1.66s/it]\u001b[A\n",
      " 87%|████████▋ | 1219/1397 [52:55<03:29,  1.18s/it]\u001b[A\n",
      " 89%|████████▊ | 1238/1397 [52:55<02:11,  1.21it/s]\u001b[A\n",
      " 90%|████████▉ | 1256/1397 [52:55<01:21,  1.73it/s]\u001b[A\n",
      " 91%|█████████ | 1266/1397 [52:55<00:55,  2.37it/s]\u001b[A\n",
      " 91%|█████████ | 1274/1397 [52:56<00:39,  3.15it/s]\u001b[A\n",
      " 92%|█████████▏| 1291/1397 [52:56<00:24,  4.39it/s]\u001b[A\n",
      " 93%|█████████▎| 1297/1397 [52:57<00:18,  5.53it/s]\u001b[A\n",
      " 93%|█████████▎| 1304/1397 [52:58<00:16,  5.71it/s]\u001b[A\n",
      " 94%|█████████▎| 1308/1397 [53:00<00:22,  3.91it/s]\u001b[A\n",
      " 94%|█████████▍| 1317/1397 [53:00<00:14,  5.48it/s]\u001b[A\n",
      " 95%|█████████▍| 1322/1397 [53:00<00:12,  5.98it/s]\u001b[A\n",
      " 95%|█████████▍| 1326/1397 [53:01<00:09,  7.17it/s]\u001b[A\n",
      " 95%|█████████▌| 1329/1397 [53:01<00:10,  6.62it/s]\u001b[A\n",
      " 96%|█████████▌| 1342/1397 [53:01<00:05,  9.24it/s]\u001b[A\n",
      " 96%|█████████▋| 1348/1397 [53:02<00:04, 10.29it/s]\u001b[A\n",
      "100%|██████████| 1397/1397 [53:02<00:00,  2.28s/it]\u001b[A\n"
     ]
    }
   ],
   "source": [
    "\n",
    "x = []\n",
    "y = []\n",
    "# for i in range(len(df)):\n",
    "#     x.append(df['geometry'][i][0].xy[0])\n",
    "#     y.append(df['geometry'][i][0].xy[0])\n",
    "for i in tqdm(range(len(df))):\n",
    "    x1 = []\n",
    "    y1 = []\n",
    "    a = df['geometry'][i][0].xy[0]\n",
    "    for j in range(0,len(a),4):\n",
    "        x1.append(df['geometry'][i][0].xy[0][j])\n",
    "        y1.append(df['geometry'][i][0].xy[1][j])\n",
    "    \n",
    "    x.append(x1)\n",
    "    y.append(y1)\n",
    "    \n",
    "\n",
    "\n",
    "    \n",
    "\n",
    "\n",
    "# x.append([i for i in df['geometry'].apply(lambda x: x_lat(x))])\n",
    "\n",
    "\n",
    "# x = [i for i in data['geometry'][0].xy[0]]\n",
    "# y = [i for i in data['geometry'][0].xy[1]]"
   ]
  },
  {
   "cell_type": "code",
   "execution_count": 13,
   "metadata": {},
   "outputs": [
    {
     "data": {
      "text/plain": [
       "16"
      ]
     },
     "execution_count": 13,
     "metadata": {},
     "output_type": "execute_result"
    }
   ],
   "source": [
    "len(x[0])"
   ]
  },
  {
   "cell_type": "code",
   "execution_count": 75,
   "metadata": {},
   "outputs": [
    {
     "data": {
      "text/html": [
       "<div>\n",
       "<style scoped>\n",
       "    .dataframe tbody tr th:only-of-type {\n",
       "        vertical-align: middle;\n",
       "    }\n",
       "\n",
       "    .dataframe tbody tr th {\n",
       "        vertical-align: top;\n",
       "    }\n",
       "\n",
       "    .dataframe thead th {\n",
       "        text-align: right;\n",
       "    }\n",
       "</style>\n",
       "<table border=\"1\" class=\"dataframe\">\n",
       "  <thead>\n",
       "    <tr style=\"text-align: right;\">\n",
       "      <th></th>\n",
       "      <th>Name</th>\n",
       "      <th>Description</th>\n",
       "      <th>geometry</th>\n",
       "      <th>INC_CRC</th>\n",
       "      <th>longitude</th>\n",
       "      <th>latitude</th>\n",
       "    </tr>\n",
       "  </thead>\n",
       "  <tbody>\n",
       "    <tr>\n",
       "      <td>0</td>\n",
       "      <td>UNDERGROUND</td>\n",
       "      <td>&lt;html xmlns:fo=\"http://www.w3.org/1999/XSL/For...</td>\n",
       "      <td>MULTILINESTRING ((103.85210 1.29351, 103.85209...</td>\n",
       "      <td>43215EF9C877C56F</td>\n",
       "      <td>[103.8520984049067, 103.8519607703489, 103.851...</td>\n",
       "      <td>[1.293508360354313, 1.293715934801187, 1.29398...</td>\n",
       "    </tr>\n",
       "    <tr>\n",
       "      <td>1</td>\n",
       "      <td>UNDERGROUND</td>\n",
       "      <td>&lt;html xmlns:fo=\"http://www.w3.org/1999/XSL/For...</td>\n",
       "      <td>MULTILINESTRING ((103.85210 1.29351, 103.85209...</td>\n",
       "      <td>6105B200FED9F6AB</td>\n",
       "      <td>[103.8520984049067, 103.8519607703489, 103.851...</td>\n",
       "      <td>[1.293508360354313, 1.293715934801187, 1.29395...</td>\n",
       "    </tr>\n",
       "    <tr>\n",
       "      <td>2</td>\n",
       "      <td>UNDERGROUND</td>\n",
       "      <td>&lt;html xmlns:fo=\"http://www.w3.org/1999/XSL/For...</td>\n",
       "      <td>MULTILINESTRING ((103.84537 1.29905, 103.84537...</td>\n",
       "      <td>11D377899E972359</td>\n",
       "      <td>[103.8453743243226, 103.8451096556791, 103.844...</td>\n",
       "      <td>[1.299048444384662, 1.299130764540524, 1.29921...</td>\n",
       "    </tr>\n",
       "    <tr>\n",
       "      <td>3</td>\n",
       "      <td>UNDERGROUND</td>\n",
       "      <td>&lt;html xmlns:fo=\"http://www.w3.org/1999/XSL/For...</td>\n",
       "      <td>MULTILINESTRING ((103.84533 1.29892, 103.84533...</td>\n",
       "      <td>8743FDEC51A13827</td>\n",
       "      <td>[103.8453309473499, 103.8450850250478, 103.844...</td>\n",
       "      <td>[1.298915320286446, 1.298995948283519, 1.29908...</td>\n",
       "    </tr>\n",
       "    <tr>\n",
       "      <td>4</td>\n",
       "      <td>UNDERGROUND</td>\n",
       "      <td>&lt;html xmlns:fo=\"http://www.w3.org/1999/XSL/For...</td>\n",
       "      <td>MULTILINESTRING ((103.83833 1.30039, 103.83802...</td>\n",
       "      <td>8D1604C6958EBC87</td>\n",
       "      <td>[103.8383269207308, 103.8374625314519, 103.837...</td>\n",
       "      <td>[1.300389738056455, 1.300618306978287, 1.30067...</td>\n",
       "    </tr>\n",
       "    <tr>\n",
       "      <td>...</td>\n",
       "      <td>...</td>\n",
       "      <td>...</td>\n",
       "      <td>...</td>\n",
       "      <td>...</td>\n",
       "      <td>...</td>\n",
       "      <td>...</td>\n",
       "    </tr>\n",
       "    <tr>\n",
       "      <td>1392</td>\n",
       "      <td>ABOVEGROUND</td>\n",
       "      <td>&lt;html xmlns:fo=\"http://www.w3.org/1999/XSL/For...</td>\n",
       "      <td>MULTILINESTRING ((103.83446 1.39428, 103.83446...</td>\n",
       "      <td>C4A81D72C19F0FB1</td>\n",
       "      <td>[103.834457871498, 103.8345069204476, 103.8345...</td>\n",
       "      <td>[1.394283684722534, 1.394252675862177, 1.39421...</td>\n",
       "    </tr>\n",
       "    <tr>\n",
       "      <td>1393</td>\n",
       "      <td>ABOVEGROUND</td>\n",
       "      <td>&lt;html xmlns:fo=\"http://www.w3.org/1999/XSL/For...</td>\n",
       "      <td>MULTILINESTRING ((103.83441 1.39427, 103.83441...</td>\n",
       "      <td>F8D322A23246EFF5</td>\n",
       "      <td>[103.8344057430951, 103.834455958401, 103.8345...</td>\n",
       "      <td>[1.394270729731281, 1.394238982910337, 1.39420...</td>\n",
       "    </tr>\n",
       "    <tr>\n",
       "      <td>1394</td>\n",
       "      <td>UNDERGROUND</td>\n",
       "      <td>&lt;html xmlns:fo=\"http://www.w3.org/1999/XSL/For...</td>\n",
       "      <td>MULTILINESTRING ((103.87117 1.28550, 103.87117...</td>\n",
       "      <td>4D22380084C39AFD</td>\n",
       "      <td>[103.8711698894848, 103.8711698894848]</td>\n",
       "      <td>[1.285498998667392, 1.285498998667392]</td>\n",
       "    </tr>\n",
       "    <tr>\n",
       "      <td>1395</td>\n",
       "      <td>UNDERGROUND</td>\n",
       "      <td>&lt;html xmlns:fo=\"http://www.w3.org/1999/XSL/For...</td>\n",
       "      <td>MULTILINESTRING ((103.93288 1.33675, 103.93300...</td>\n",
       "      <td>56222C78A49CB84D</td>\n",
       "      <td>[103.9328770921441, 103.9331650854853, 103.933...</td>\n",
       "      <td>[1.336752146381437, 1.336741993088136, 1.33673...</td>\n",
       "    </tr>\n",
       "    <tr>\n",
       "      <td>1396</td>\n",
       "      <td>UNDERGROUND</td>\n",
       "      <td>&lt;html xmlns:fo=\"http://www.w3.org/1999/XSL/For...</td>\n",
       "      <td>MULTILINESTRING ((103.93287 1.33661, 103.93291...</td>\n",
       "      <td>B342157470B5AD4A</td>\n",
       "      <td>[103.9328698649148, 103.9330494762867, 103.933...</td>\n",
       "      <td>[1.33661485530448, 1.336608830339954, 1.336605...</td>\n",
       "    </tr>\n",
       "  </tbody>\n",
       "</table>\n",
       "<p>1397 rows × 6 columns</p>\n",
       "</div>"
      ],
      "text/plain": [
       "             Name                                        Description  \\\n",
       "0     UNDERGROUND  <html xmlns:fo=\"http://www.w3.org/1999/XSL/For...   \n",
       "1     UNDERGROUND  <html xmlns:fo=\"http://www.w3.org/1999/XSL/For...   \n",
       "2     UNDERGROUND  <html xmlns:fo=\"http://www.w3.org/1999/XSL/For...   \n",
       "3     UNDERGROUND  <html xmlns:fo=\"http://www.w3.org/1999/XSL/For...   \n",
       "4     UNDERGROUND  <html xmlns:fo=\"http://www.w3.org/1999/XSL/For...   \n",
       "...           ...                                                ...   \n",
       "1392  ABOVEGROUND  <html xmlns:fo=\"http://www.w3.org/1999/XSL/For...   \n",
       "1393  ABOVEGROUND  <html xmlns:fo=\"http://www.w3.org/1999/XSL/For...   \n",
       "1394  UNDERGROUND  <html xmlns:fo=\"http://www.w3.org/1999/XSL/For...   \n",
       "1395  UNDERGROUND  <html xmlns:fo=\"http://www.w3.org/1999/XSL/For...   \n",
       "1396  UNDERGROUND  <html xmlns:fo=\"http://www.w3.org/1999/XSL/For...   \n",
       "\n",
       "                                               geometry           INC_CRC  \\\n",
       "0     MULTILINESTRING ((103.85210 1.29351, 103.85209...  43215EF9C877C56F   \n",
       "1     MULTILINESTRING ((103.85210 1.29351, 103.85209...  6105B200FED9F6AB   \n",
       "2     MULTILINESTRING ((103.84537 1.29905, 103.84537...  11D377899E972359   \n",
       "3     MULTILINESTRING ((103.84533 1.29892, 103.84533...  8743FDEC51A13827   \n",
       "4     MULTILINESTRING ((103.83833 1.30039, 103.83802...  8D1604C6958EBC87   \n",
       "...                                                 ...               ...   \n",
       "1392  MULTILINESTRING ((103.83446 1.39428, 103.83446...  C4A81D72C19F0FB1   \n",
       "1393  MULTILINESTRING ((103.83441 1.39427, 103.83441...  F8D322A23246EFF5   \n",
       "1394  MULTILINESTRING ((103.87117 1.28550, 103.87117...  4D22380084C39AFD   \n",
       "1395  MULTILINESTRING ((103.93288 1.33675, 103.93300...  56222C78A49CB84D   \n",
       "1396  MULTILINESTRING ((103.93287 1.33661, 103.93291...  B342157470B5AD4A   \n",
       "\n",
       "                                              longitude  \\\n",
       "0     [103.8520984049067, 103.8519607703489, 103.851...   \n",
       "1     [103.8520984049067, 103.8519607703489, 103.851...   \n",
       "2     [103.8453743243226, 103.8451096556791, 103.844...   \n",
       "3     [103.8453309473499, 103.8450850250478, 103.844...   \n",
       "4     [103.8383269207308, 103.8374625314519, 103.837...   \n",
       "...                                                 ...   \n",
       "1392  [103.834457871498, 103.8345069204476, 103.8345...   \n",
       "1393  [103.8344057430951, 103.834455958401, 103.8345...   \n",
       "1394             [103.8711698894848, 103.8711698894848]   \n",
       "1395  [103.9328770921441, 103.9331650854853, 103.933...   \n",
       "1396  [103.9328698649148, 103.9330494762867, 103.933...   \n",
       "\n",
       "                                               latitude  \n",
       "0     [1.293508360354313, 1.293715934801187, 1.29398...  \n",
       "1     [1.293508360354313, 1.293715934801187, 1.29395...  \n",
       "2     [1.299048444384662, 1.299130764540524, 1.29921...  \n",
       "3     [1.298915320286446, 1.298995948283519, 1.29908...  \n",
       "4     [1.300389738056455, 1.300618306978287, 1.30067...  \n",
       "...                                                 ...  \n",
       "1392  [1.394283684722534, 1.394252675862177, 1.39421...  \n",
       "1393  [1.394270729731281, 1.394238982910337, 1.39420...  \n",
       "1394             [1.285498998667392, 1.285498998667392]  \n",
       "1395  [1.336752146381437, 1.336741993088136, 1.33673...  \n",
       "1396  [1.33661485530448, 1.336608830339954, 1.336605...  \n",
       "\n",
       "[1397 rows x 6 columns]"
      ]
     },
     "execution_count": 75,
     "metadata": {},
     "output_type": "execute_result"
    }
   ],
   "source": [
    "df['longitude'] = pd.DataFrame({'longitude' : x})\n",
    "df['latitude'] = pd.DataFrame({'latitude' : y})\n",
    "\n",
    "df"
   ]
  },
  {
   "cell_type": "code",
   "execution_count": 76,
   "metadata": {},
   "outputs": [],
   "source": [
    "df = df.merge(data[['GRND_LEVEL','TYPE','SHAPE_Leng','INC_CRC']],on = 'INC_CRC', how='left')"
   ]
  },
  {
   "cell_type": "code",
   "execution_count": 77,
   "metadata": {},
   "outputs": [
    {
     "data": {
      "text/html": [
       "<div>\n",
       "<style scoped>\n",
       "    .dataframe tbody tr th:only-of-type {\n",
       "        vertical-align: middle;\n",
       "    }\n",
       "\n",
       "    .dataframe tbody tr th {\n",
       "        vertical-align: top;\n",
       "    }\n",
       "\n",
       "    .dataframe thead th {\n",
       "        text-align: right;\n",
       "    }\n",
       "</style>\n",
       "<table border=\"1\" class=\"dataframe\">\n",
       "  <thead>\n",
       "    <tr style=\"text-align: right;\">\n",
       "      <th></th>\n",
       "      <th>Name</th>\n",
       "      <th>Description</th>\n",
       "      <th>geometry</th>\n",
       "      <th>INC_CRC</th>\n",
       "      <th>longitude</th>\n",
       "      <th>latitude</th>\n",
       "      <th>GRND_LEVEL</th>\n",
       "      <th>TYPE</th>\n",
       "      <th>SHAPE_Leng</th>\n",
       "    </tr>\n",
       "  </thead>\n",
       "  <tbody>\n",
       "    <tr>\n",
       "      <td>0</td>\n",
       "      <td>UNDERGROUND</td>\n",
       "      <td>&lt;html xmlns:fo=\"http://www.w3.org/1999/XSL/For...</td>\n",
       "      <td>MULTILINESTRING ((103.85210 1.29351, 103.85209...</td>\n",
       "      <td>43215EF9C877C56F</td>\n",
       "      <td>[103.8520984049067, 103.8519607703489, 103.851...</td>\n",
       "      <td>[1.293508360354313, 1.293715934801187, 1.29398...</td>\n",
       "      <td>UNDERGROUND</td>\n",
       "      <td>MRT</td>\n",
       "      <td>826.574555</td>\n",
       "    </tr>\n",
       "    <tr>\n",
       "      <td>1</td>\n",
       "      <td>UNDERGROUND</td>\n",
       "      <td>&lt;html xmlns:fo=\"http://www.w3.org/1999/XSL/For...</td>\n",
       "      <td>MULTILINESTRING ((103.85210 1.29351, 103.85209...</td>\n",
       "      <td>6105B200FED9F6AB</td>\n",
       "      <td>[103.8520984049067, 103.8519607703489, 103.851...</td>\n",
       "      <td>[1.293508360354313, 1.293715934801187, 1.29395...</td>\n",
       "      <td>UNDERGROUND</td>\n",
       "      <td>MRT</td>\n",
       "      <td>815.626905</td>\n",
       "    </tr>\n",
       "    <tr>\n",
       "      <td>2</td>\n",
       "      <td>UNDERGROUND</td>\n",
       "      <td>&lt;html xmlns:fo=\"http://www.w3.org/1999/XSL/For...</td>\n",
       "      <td>MULTILINESTRING ((103.84537 1.29905, 103.84537...</td>\n",
       "      <td>11D377899E972359</td>\n",
       "      <td>[103.8453743243226, 103.8451096556791, 103.844...</td>\n",
       "      <td>[1.299048444384662, 1.299130764540524, 1.29921...</td>\n",
       "      <td>UNDERGROUND</td>\n",
       "      <td>MRT</td>\n",
       "      <td>610.083840</td>\n",
       "    </tr>\n",
       "    <tr>\n",
       "      <td>3</td>\n",
       "      <td>UNDERGROUND</td>\n",
       "      <td>&lt;html xmlns:fo=\"http://www.w3.org/1999/XSL/For...</td>\n",
       "      <td>MULTILINESTRING ((103.84533 1.29892, 103.84533...</td>\n",
       "      <td>8743FDEC51A13827</td>\n",
       "      <td>[103.8453309473499, 103.8450850250478, 103.844...</td>\n",
       "      <td>[1.298915320286446, 1.298995948283519, 1.29908...</td>\n",
       "      <td>UNDERGROUND</td>\n",
       "      <td>MRT</td>\n",
       "      <td>608.693508</td>\n",
       "    </tr>\n",
       "    <tr>\n",
       "      <td>4</td>\n",
       "      <td>UNDERGROUND</td>\n",
       "      <td>&lt;html xmlns:fo=\"http://www.w3.org/1999/XSL/For...</td>\n",
       "      <td>MULTILINESTRING ((103.83833 1.30039, 103.83802...</td>\n",
       "      <td>8D1604C6958EBC87</td>\n",
       "      <td>[103.8383269207308, 103.8374625314519, 103.837...</td>\n",
       "      <td>[1.300389738056455, 1.300618306978287, 1.30067...</td>\n",
       "      <td>UNDERGROUND</td>\n",
       "      <td>MRT</td>\n",
       "      <td>854.419016</td>\n",
       "    </tr>\n",
       "    <tr>\n",
       "      <td>...</td>\n",
       "      <td>...</td>\n",
       "      <td>...</td>\n",
       "      <td>...</td>\n",
       "      <td>...</td>\n",
       "      <td>...</td>\n",
       "      <td>...</td>\n",
       "      <td>...</td>\n",
       "      <td>...</td>\n",
       "      <td>...</td>\n",
       "    </tr>\n",
       "    <tr>\n",
       "      <td>1394</td>\n",
       "      <td>ABOVEGROUND</td>\n",
       "      <td>&lt;html xmlns:fo=\"http://www.w3.org/1999/XSL/For...</td>\n",
       "      <td>MULTILINESTRING ((103.83446 1.39428, 103.83446...</td>\n",
       "      <td>C4A81D72C19F0FB1</td>\n",
       "      <td>[103.834457871498, 103.8345069204476, 103.8345...</td>\n",
       "      <td>[1.394283684722534, 1.394252675862177, 1.39421...</td>\n",
       "      <td>ABOVEGROUND</td>\n",
       "      <td>MRT</td>\n",
       "      <td>47.436025</td>\n",
       "    </tr>\n",
       "    <tr>\n",
       "      <td>1395</td>\n",
       "      <td>ABOVEGROUND</td>\n",
       "      <td>&lt;html xmlns:fo=\"http://www.w3.org/1999/XSL/For...</td>\n",
       "      <td>MULTILINESTRING ((103.83441 1.39427, 103.83441...</td>\n",
       "      <td>F8D322A23246EFF5</td>\n",
       "      <td>[103.8344057430951, 103.834455958401, 103.8345...</td>\n",
       "      <td>[1.394270729731281, 1.394238982910337, 1.39420...</td>\n",
       "      <td>ABOVEGROUND</td>\n",
       "      <td>MRT</td>\n",
       "      <td>49.979993</td>\n",
       "    </tr>\n",
       "    <tr>\n",
       "      <td>1396</td>\n",
       "      <td>UNDERGROUND</td>\n",
       "      <td>&lt;html xmlns:fo=\"http://www.w3.org/1999/XSL/For...</td>\n",
       "      <td>MULTILINESTRING ((103.87117 1.28550, 103.87117...</td>\n",
       "      <td>4D22380084C39AFD</td>\n",
       "      <td>[103.8711698894848, 103.8711698894848]</td>\n",
       "      <td>[1.285498998667392, 1.285498998667392]</td>\n",
       "      <td>UNDERGROUND</td>\n",
       "      <td>MRT</td>\n",
       "      <td>95.977346</td>\n",
       "    </tr>\n",
       "    <tr>\n",
       "      <td>1397</td>\n",
       "      <td>UNDERGROUND</td>\n",
       "      <td>&lt;html xmlns:fo=\"http://www.w3.org/1999/XSL/For...</td>\n",
       "      <td>MULTILINESTRING ((103.93288 1.33675, 103.93300...</td>\n",
       "      <td>56222C78A49CB84D</td>\n",
       "      <td>[103.9328770921441, 103.9331650854853, 103.933...</td>\n",
       "      <td>[1.336752146381437, 1.336741993088136, 1.33673...</td>\n",
       "      <td>UNDERGROUND</td>\n",
       "      <td>MRT</td>\n",
       "      <td>561.372407</td>\n",
       "    </tr>\n",
       "    <tr>\n",
       "      <td>1398</td>\n",
       "      <td>UNDERGROUND</td>\n",
       "      <td>&lt;html xmlns:fo=\"http://www.w3.org/1999/XSL/For...</td>\n",
       "      <td>MULTILINESTRING ((103.93287 1.33661, 103.93291...</td>\n",
       "      <td>B342157470B5AD4A</td>\n",
       "      <td>[103.9328698649148, 103.9330494762867, 103.933...</td>\n",
       "      <td>[1.33661485530448, 1.336608830339954, 1.336605...</td>\n",
       "      <td>UNDERGROUND</td>\n",
       "      <td>MRT</td>\n",
       "      <td>571.576093</td>\n",
       "    </tr>\n",
       "  </tbody>\n",
       "</table>\n",
       "<p>1399 rows × 9 columns</p>\n",
       "</div>"
      ],
      "text/plain": [
       "             Name                                        Description  \\\n",
       "0     UNDERGROUND  <html xmlns:fo=\"http://www.w3.org/1999/XSL/For...   \n",
       "1     UNDERGROUND  <html xmlns:fo=\"http://www.w3.org/1999/XSL/For...   \n",
       "2     UNDERGROUND  <html xmlns:fo=\"http://www.w3.org/1999/XSL/For...   \n",
       "3     UNDERGROUND  <html xmlns:fo=\"http://www.w3.org/1999/XSL/For...   \n",
       "4     UNDERGROUND  <html xmlns:fo=\"http://www.w3.org/1999/XSL/For...   \n",
       "...           ...                                                ...   \n",
       "1394  ABOVEGROUND  <html xmlns:fo=\"http://www.w3.org/1999/XSL/For...   \n",
       "1395  ABOVEGROUND  <html xmlns:fo=\"http://www.w3.org/1999/XSL/For...   \n",
       "1396  UNDERGROUND  <html xmlns:fo=\"http://www.w3.org/1999/XSL/For...   \n",
       "1397  UNDERGROUND  <html xmlns:fo=\"http://www.w3.org/1999/XSL/For...   \n",
       "1398  UNDERGROUND  <html xmlns:fo=\"http://www.w3.org/1999/XSL/For...   \n",
       "\n",
       "                                               geometry           INC_CRC  \\\n",
       "0     MULTILINESTRING ((103.85210 1.29351, 103.85209...  43215EF9C877C56F   \n",
       "1     MULTILINESTRING ((103.85210 1.29351, 103.85209...  6105B200FED9F6AB   \n",
       "2     MULTILINESTRING ((103.84537 1.29905, 103.84537...  11D377899E972359   \n",
       "3     MULTILINESTRING ((103.84533 1.29892, 103.84533...  8743FDEC51A13827   \n",
       "4     MULTILINESTRING ((103.83833 1.30039, 103.83802...  8D1604C6958EBC87   \n",
       "...                                                 ...               ...   \n",
       "1394  MULTILINESTRING ((103.83446 1.39428, 103.83446...  C4A81D72C19F0FB1   \n",
       "1395  MULTILINESTRING ((103.83441 1.39427, 103.83441...  F8D322A23246EFF5   \n",
       "1396  MULTILINESTRING ((103.87117 1.28550, 103.87117...  4D22380084C39AFD   \n",
       "1397  MULTILINESTRING ((103.93288 1.33675, 103.93300...  56222C78A49CB84D   \n",
       "1398  MULTILINESTRING ((103.93287 1.33661, 103.93291...  B342157470B5AD4A   \n",
       "\n",
       "                                              longitude  \\\n",
       "0     [103.8520984049067, 103.8519607703489, 103.851...   \n",
       "1     [103.8520984049067, 103.8519607703489, 103.851...   \n",
       "2     [103.8453743243226, 103.8451096556791, 103.844...   \n",
       "3     [103.8453309473499, 103.8450850250478, 103.844...   \n",
       "4     [103.8383269207308, 103.8374625314519, 103.837...   \n",
       "...                                                 ...   \n",
       "1394  [103.834457871498, 103.8345069204476, 103.8345...   \n",
       "1395  [103.8344057430951, 103.834455958401, 103.8345...   \n",
       "1396             [103.8711698894848, 103.8711698894848]   \n",
       "1397  [103.9328770921441, 103.9331650854853, 103.933...   \n",
       "1398  [103.9328698649148, 103.9330494762867, 103.933...   \n",
       "\n",
       "                                               latitude   GRND_LEVEL TYPE  \\\n",
       "0     [1.293508360354313, 1.293715934801187, 1.29398...  UNDERGROUND  MRT   \n",
       "1     [1.293508360354313, 1.293715934801187, 1.29395...  UNDERGROUND  MRT   \n",
       "2     [1.299048444384662, 1.299130764540524, 1.29921...  UNDERGROUND  MRT   \n",
       "3     [1.298915320286446, 1.298995948283519, 1.29908...  UNDERGROUND  MRT   \n",
       "4     [1.300389738056455, 1.300618306978287, 1.30067...  UNDERGROUND  MRT   \n",
       "...                                                 ...          ...  ...   \n",
       "1394  [1.394283684722534, 1.394252675862177, 1.39421...  ABOVEGROUND  MRT   \n",
       "1395  [1.394270729731281, 1.394238982910337, 1.39420...  ABOVEGROUND  MRT   \n",
       "1396             [1.285498998667392, 1.285498998667392]  UNDERGROUND  MRT   \n",
       "1397  [1.336752146381437, 1.336741993088136, 1.33673...  UNDERGROUND  MRT   \n",
       "1398  [1.33661485530448, 1.336608830339954, 1.336605...  UNDERGROUND  MRT   \n",
       "\n",
       "      SHAPE_Leng  \n",
       "0     826.574555  \n",
       "1     815.626905  \n",
       "2     610.083840  \n",
       "3     608.693508  \n",
       "4     854.419016  \n",
       "...          ...  \n",
       "1394   47.436025  \n",
       "1395   49.979993  \n",
       "1396   95.977346  \n",
       "1397  561.372407  \n",
       "1398  571.576093  \n",
       "\n",
       "[1399 rows x 9 columns]"
      ]
     },
     "execution_count": 77,
     "metadata": {},
     "output_type": "execute_result"
    }
   ],
   "source": [
    "df"
   ]
  },
  {
   "cell_type": "code",
   "execution_count": 78,
   "metadata": {},
   "outputs": [],
   "source": [
    "def explode(df, lst_cols, fill_value=''):\n",
    "    # make sure `lst_cols` is a list\n",
    "    if lst_cols and not isinstance(lst_cols, list):\n",
    "        lst_cols = [lst_cols]\n",
    "    # all columns except `lst_cols`\n",
    "    idx_cols = df.columns.difference(lst_cols)\n",
    "\n",
    "    # calculate lengths of lists\n",
    "    lens = df[lst_cols[0]].str.len()\n",
    "\n",
    "    if (lens > 0).all():\n",
    "        # ALL lists in cells aren't empty\n",
    "        return pd.DataFrame({\n",
    "            col:np.repeat(df[col].values, df[lst_cols[0]].str.len())\n",
    "            for col in idx_cols\n",
    "        }).assign(**{col:np.concatenate(df[col].values) for col in lst_cols}) \\\n",
    "          .loc[:, df.columns]\n",
    "    else:\n",
    "        # at least one list in cells is empty\n",
    "        return pd.DataFrame({\n",
    "            col:np.repeat(df[col].values, df[lst_cols[0]].str.len())\n",
    "            for col in idx_cols\n",
    "        }).assign(**{col:np.concatenate(df[col].values) for col in lst_cols}) \\\n",
    "          .append(df.loc[lens==0, idx_cols]).fillna(fill_value) \\\n",
    "          .loc[:, df.columns]\n",
    "    \n",
    "    \n",
    "\n",
    "df_exploded = explode(df, lst_cols=list(['longitude','latitude']))"
   ]
  },
  {
   "cell_type": "code",
   "execution_count": 79,
   "metadata": {},
   "outputs": [],
   "source": [
    "df_exploded.drop('Description',axis=1,inplace=True)"
   ]
  },
  {
   "cell_type": "code",
   "execution_count": 80,
   "metadata": {},
   "outputs": [],
   "source": [
    "df_exploded.drop('geometry',axis=1,inplace=True)"
   ]
  },
  {
   "cell_type": "code",
   "execution_count": 81,
   "metadata": {},
   "outputs": [
    {
     "data": {
      "text/html": [
       "<div>\n",
       "<style scoped>\n",
       "    .dataframe tbody tr th:only-of-type {\n",
       "        vertical-align: middle;\n",
       "    }\n",
       "\n",
       "    .dataframe tbody tr th {\n",
       "        vertical-align: top;\n",
       "    }\n",
       "\n",
       "    .dataframe thead th {\n",
       "        text-align: right;\n",
       "    }\n",
       "</style>\n",
       "<table border=\"1\" class=\"dataframe\">\n",
       "  <thead>\n",
       "    <tr style=\"text-align: right;\">\n",
       "      <th></th>\n",
       "      <th>Name</th>\n",
       "      <th>INC_CRC</th>\n",
       "      <th>longitude</th>\n",
       "      <th>latitude</th>\n",
       "      <th>GRND_LEVEL</th>\n",
       "      <th>TYPE</th>\n",
       "      <th>SHAPE_Leng</th>\n",
       "    </tr>\n",
       "  </thead>\n",
       "  <tbody>\n",
       "    <tr>\n",
       "      <td>0</td>\n",
       "      <td>UNDERGROUND</td>\n",
       "      <td>43215EF9C877C56F</td>\n",
       "      <td>103.852098</td>\n",
       "      <td>1.293508</td>\n",
       "      <td>UNDERGROUND</td>\n",
       "      <td>MRT</td>\n",
       "      <td>826.574555</td>\n",
       "    </tr>\n",
       "    <tr>\n",
       "      <td>1</td>\n",
       "      <td>UNDERGROUND</td>\n",
       "      <td>43215EF9C877C56F</td>\n",
       "      <td>103.851961</td>\n",
       "      <td>1.293716</td>\n",
       "      <td>UNDERGROUND</td>\n",
       "      <td>MRT</td>\n",
       "      <td>826.574555</td>\n",
       "    </tr>\n",
       "    <tr>\n",
       "      <td>2</td>\n",
       "      <td>UNDERGROUND</td>\n",
       "      <td>43215EF9C877C56F</td>\n",
       "      <td>103.851784</td>\n",
       "      <td>1.293983</td>\n",
       "      <td>UNDERGROUND</td>\n",
       "      <td>MRT</td>\n",
       "      <td>826.574555</td>\n",
       "    </tr>\n",
       "    <tr>\n",
       "      <td>3</td>\n",
       "      <td>UNDERGROUND</td>\n",
       "      <td>43215EF9C877C56F</td>\n",
       "      <td>103.850680</td>\n",
       "      <td>1.295660</td>\n",
       "      <td>UNDERGROUND</td>\n",
       "      <td>MRT</td>\n",
       "      <td>826.574555</td>\n",
       "    </tr>\n",
       "    <tr>\n",
       "      <td>4</td>\n",
       "      <td>UNDERGROUND</td>\n",
       "      <td>43215EF9C877C56F</td>\n",
       "      <td>103.850475</td>\n",
       "      <td>1.295970</td>\n",
       "      <td>UNDERGROUND</td>\n",
       "      <td>MRT</td>\n",
       "      <td>826.574555</td>\n",
       "    </tr>\n",
       "    <tr>\n",
       "      <td>...</td>\n",
       "      <td>...</td>\n",
       "      <td>...</td>\n",
       "      <td>...</td>\n",
       "      <td>...</td>\n",
       "      <td>...</td>\n",
       "      <td>...</td>\n",
       "      <td>...</td>\n",
       "    </tr>\n",
       "    <tr>\n",
       "      <td>98897</td>\n",
       "      <td>UNDERGROUND</td>\n",
       "      <td>B342157470B5AD4A</td>\n",
       "      <td>103.937368</td>\n",
       "      <td>1.336978</td>\n",
       "      <td>UNDERGROUND</td>\n",
       "      <td>MRT</td>\n",
       "      <td>571.576093</td>\n",
       "    </tr>\n",
       "    <tr>\n",
       "      <td>98898</td>\n",
       "      <td>UNDERGROUND</td>\n",
       "      <td>B342157470B5AD4A</td>\n",
       "      <td>103.937497</td>\n",
       "      <td>1.336994</td>\n",
       "      <td>UNDERGROUND</td>\n",
       "      <td>MRT</td>\n",
       "      <td>571.576093</td>\n",
       "    </tr>\n",
       "    <tr>\n",
       "      <td>98899</td>\n",
       "      <td>UNDERGROUND</td>\n",
       "      <td>B342157470B5AD4A</td>\n",
       "      <td>103.937627</td>\n",
       "      <td>1.337014</td>\n",
       "      <td>UNDERGROUND</td>\n",
       "      <td>MRT</td>\n",
       "      <td>571.576093</td>\n",
       "    </tr>\n",
       "    <tr>\n",
       "      <td>98900</td>\n",
       "      <td>UNDERGROUND</td>\n",
       "      <td>B342157470B5AD4A</td>\n",
       "      <td>103.937755</td>\n",
       "      <td>1.337038</td>\n",
       "      <td>UNDERGROUND</td>\n",
       "      <td>MRT</td>\n",
       "      <td>571.576093</td>\n",
       "    </tr>\n",
       "    <tr>\n",
       "      <td>98901</td>\n",
       "      <td>UNDERGROUND</td>\n",
       "      <td>B342157470B5AD4A</td>\n",
       "      <td>103.937924</td>\n",
       "      <td>1.337079</td>\n",
       "      <td>UNDERGROUND</td>\n",
       "      <td>MRT</td>\n",
       "      <td>571.576093</td>\n",
       "    </tr>\n",
       "  </tbody>\n",
       "</table>\n",
       "<p>98902 rows × 7 columns</p>\n",
       "</div>"
      ],
      "text/plain": [
       "              Name           INC_CRC   longitude  latitude   GRND_LEVEL TYPE  \\\n",
       "0      UNDERGROUND  43215EF9C877C56F  103.852098  1.293508  UNDERGROUND  MRT   \n",
       "1      UNDERGROUND  43215EF9C877C56F  103.851961  1.293716  UNDERGROUND  MRT   \n",
       "2      UNDERGROUND  43215EF9C877C56F  103.851784  1.293983  UNDERGROUND  MRT   \n",
       "3      UNDERGROUND  43215EF9C877C56F  103.850680  1.295660  UNDERGROUND  MRT   \n",
       "4      UNDERGROUND  43215EF9C877C56F  103.850475  1.295970  UNDERGROUND  MRT   \n",
       "...            ...               ...         ...       ...          ...  ...   \n",
       "98897  UNDERGROUND  B342157470B5AD4A  103.937368  1.336978  UNDERGROUND  MRT   \n",
       "98898  UNDERGROUND  B342157470B5AD4A  103.937497  1.336994  UNDERGROUND  MRT   \n",
       "98899  UNDERGROUND  B342157470B5AD4A  103.937627  1.337014  UNDERGROUND  MRT   \n",
       "98900  UNDERGROUND  B342157470B5AD4A  103.937755  1.337038  UNDERGROUND  MRT   \n",
       "98901  UNDERGROUND  B342157470B5AD4A  103.937924  1.337079  UNDERGROUND  MRT   \n",
       "\n",
       "       SHAPE_Leng  \n",
       "0      826.574555  \n",
       "1      826.574555  \n",
       "2      826.574555  \n",
       "3      826.574555  \n",
       "4      826.574555  \n",
       "...           ...  \n",
       "98897  571.576093  \n",
       "98898  571.576093  \n",
       "98899  571.576093  \n",
       "98900  571.576093  \n",
       "98901  571.576093  \n",
       "\n",
       "[98902 rows x 7 columns]"
      ]
     },
     "execution_count": 81,
     "metadata": {},
     "output_type": "execute_result"
    }
   ],
   "source": [
    "df_exploded"
   ]
  },
  {
   "cell_type": "code",
   "execution_count": 82,
   "metadata": {},
   "outputs": [],
   "source": [
    "df_exploded.to_excel('mrt_rail_datapoints_exploded_v4.xlsx',index=False)"
   ]
  },
  {
   "cell_type": "code",
   "execution_count": 392,
   "metadata": {
    "scrolled": false
   },
   "outputs": [],
   "source": [
    "df.to_excel('mrt_rail_datapoints.xlsx',index=False)"
   ]
  },
  {
   "cell_type": "code",
   "execution_count": 331,
   "metadata": {},
   "outputs": [],
   "source": [
    "for i in range(len(df)):\n",
    "    try:\n",
    "        x = df['geometry'][i][0].xy\n",
    "    except:\n",
    "        print(i)"
   ]
  },
  {
   "cell_type": "code",
   "execution_count": 298,
   "metadata": {},
   "outputs": [
    {
     "data": {
      "text/plain": [
       "(array('d', [103.8520984049067, 103.8520940515158, 103.8520736009086, 103.8520106631816, 103.8519607703489, 103.851919972457, 103.8518637422714, 103.8518269725026, 103.8517842571524, 103.8517185087924, 103.8507329621187, 103.8507137909966, 103.850679602666, 103.8506324511854, 103.8505875136842, 103.8505336618226, 103.8504748437723, 103.850427342761, 103.8503731593375, 103.8503244587439, 103.8502712142598, 103.8502256432519, 103.850178615704, 103.8501172502102, 103.8500635285289, 103.8500171685476, 103.8499645421554, 103.8499174731961, 103.8498623748996, 103.8497985329204, 103.8497367584553, 103.8496778799572, 103.8496163049351, 103.849561630677, 103.8495083482368, 103.8494428609396, 103.849398170303, 103.8493456399068, 103.8492835328676, 103.8491879255731, 103.8491319492368, 103.8490717039359, 103.8490076919426, 103.8489532925284, 103.8488879336068, 103.8488316526273, 103.8487657168166, 103.8487145224588, 103.8486519318962, 103.8485796784195, 103.8485109166654, 103.8484509453275, 103.8483889846115, 103.8483257308855, 103.8482596063111, 103.8482034609344, 103.8481404471012, 103.8480748202945, 103.8480063765573, 103.8479475400201, 103.8478684179875, 103.8477867135328, 103.8477202258932, 103.8476485626364, 103.8475839241838, 103.847525719285, 103.8474604868882, 103.8473853219975, 103.8473179564449, 103.8472230631379, 103.8471506558631, 103.8470990633318, 103.8470353242983, 103.8469761291915, 103.8469191139493, 103.8469169358813]),\n",
       " array('d', [1.293508360354313, 1.293514952301722, 1.293545501896747, 1.29364064244505, 1.293715934801187, 1.293776622502153, 1.293862218331238, 1.293917429167867, 1.293983442684997, 1.294082834665484, 1.295579273291907, 1.295608643575327, 1.295659815484151, 1.295731320315248, 1.295798517640787, 1.295879369126053, 1.295969864790127, 1.296043482215891, 1.296125962460956, 1.296196458929993, 1.296274104432336, 1.296339106862289, 1.296404385132429, 1.296487682965793, 1.296556468405065, 1.296615119482578, 1.296679235677086, 1.296734455597427, 1.29679776059088, 1.296868887491435, 1.296935055744745, 1.296995478548256, 1.297057351968951, 1.297111262411693, 1.297161327485222, 1.297222178090284, 1.297261211664756, 1.297306362411795, 1.297358092472345, 1.2974364101632, 1.297478950930763, 1.297524770046156, 1.297571696126125, 1.29761147223675, 1.297657366441823, 1.297695501139381, 1.297738210172082, 1.297770802888407, 1.297808840853553, 1.29785227793355, 1.297892731490987, 1.297926441145469, 1.297960225872732, 1.297993487883341, 1.298027133360097, 1.29805503244225, 1.298085944002728, 1.298115970203845, 1.298147301418086, 1.298172638444821, 1.298205517085575, 1.298237764492082, 1.298264383042424, 1.298290980820122, 1.298315011968701, 1.29833494540243, 1.298358272955384, 1.298384707055282, 1.298406422134079, 1.298438024783644, 1.298462231410832, 1.298479539427366, 1.298501012108991, 1.298520325141199, 1.298539015957269, 1.298539734034683]))"
      ]
     },
     "execution_count": 298,
     "metadata": {},
     "output_type": "execute_result"
    }
   ],
   "source": [
    "df['geometry'][0][0].xy"
   ]
  },
  {
   "cell_type": "code",
   "execution_count": 366,
   "metadata": {},
   "outputs": [
    {
     "data": {
      "text/html": [
       "<div>\n",
       "<style scoped>\n",
       "    .dataframe tbody tr th:only-of-type {\n",
       "        vertical-align: middle;\n",
       "    }\n",
       "\n",
       "    .dataframe tbody tr th {\n",
       "        vertical-align: top;\n",
       "    }\n",
       "\n",
       "    .dataframe thead th {\n",
       "        text-align: right;\n",
       "    }\n",
       "</style>\n",
       "<table border=\"1\" class=\"dataframe\">\n",
       "  <thead>\n",
       "    <tr style=\"text-align: right;\">\n",
       "      <th></th>\n",
       "      <th>OBJECTID</th>\n",
       "      <th>OID_1</th>\n",
       "      <th>GRND_LEVEL</th>\n",
       "      <th>TYPE</th>\n",
       "      <th>INC_CRC</th>\n",
       "      <th>FMEL_UPD_D</th>\n",
       "      <th>X_ADDR</th>\n",
       "      <th>Y_ADDR</th>\n",
       "      <th>SHAPE_Leng</th>\n",
       "      <th>geometry</th>\n",
       "    </tr>\n",
       "  </thead>\n",
       "  <tbody>\n",
       "    <tr>\n",
       "      <td>0</td>\n",
       "      <td>1</td>\n",
       "      <td>0</td>\n",
       "      <td>UNDERGROUND</td>\n",
       "      <td>MRT</td>\n",
       "      <td>43215EF9C877C56F</td>\n",
       "      <td>2014-06-23</td>\n",
       "      <td>29859.1013</td>\n",
       "      <td>30997.7625</td>\n",
       "      <td>826.574555</td>\n",
       "      <td>LINESTRING (29513.376 31211.449, 29513.618 312...</td>\n",
       "    </tr>\n",
       "    <tr>\n",
       "      <td>1</td>\n",
       "      <td>2</td>\n",
       "      <td>0</td>\n",
       "      <td>UNDERGROUND</td>\n",
       "      <td>MRT</td>\n",
       "      <td>6105B200FED9F6AB</td>\n",
       "      <td>2014-06-23</td>\n",
       "      <td>29847.8403</td>\n",
       "      <td>30983.1468</td>\n",
       "      <td>815.626905</td>\n",
       "      <td>LINESTRING (29508.584 31196.830, 29508.817 311...</td>\n",
       "    </tr>\n",
       "    <tr>\n",
       "      <td>2</td>\n",
       "      <td>3</td>\n",
       "      <td>0</td>\n",
       "      <td>UNDERGROUND</td>\n",
       "      <td>MRT</td>\n",
       "      <td>11D377899E972359</td>\n",
       "      <td>2014-06-23</td>\n",
       "      <td>29043.1323</td>\n",
       "      <td>31328.9357</td>\n",
       "      <td>610.083840</td>\n",
       "      <td>LINESTRING (28744.000 31388.314, 28820.801 313...</td>\n",
       "    </tr>\n",
       "    <tr>\n",
       "      <td>3</td>\n",
       "      <td>4</td>\n",
       "      <td>0</td>\n",
       "      <td>UNDERGROUND</td>\n",
       "      <td>MRT</td>\n",
       "      <td>8743FDEC51A13827</td>\n",
       "      <td>2014-06-23</td>\n",
       "      <td>29039.5927</td>\n",
       "      <td>31316.4599</td>\n",
       "      <td>608.693508</td>\n",
       "      <td>LINESTRING (28740.927 31374.606, 28809.279 313...</td>\n",
       "    </tr>\n",
       "    <tr>\n",
       "      <td>4</td>\n",
       "      <td>5</td>\n",
       "      <td>0</td>\n",
       "      <td>UNDERGROUND</td>\n",
       "      <td>MRT</td>\n",
       "      <td>8D1604C6958EBC87</td>\n",
       "      <td>2014-06-23</td>\n",
       "      <td>28136.7387</td>\n",
       "      <td>31429.3362</td>\n",
       "      <td>854.419016</td>\n",
       "      <td>LINESTRING (27871.646 31719.024, 27871.921 317...</td>\n",
       "    </tr>\n",
       "    <tr>\n",
       "      <td>...</td>\n",
       "      <td>...</td>\n",
       "      <td>...</td>\n",
       "      <td>...</td>\n",
       "      <td>...</td>\n",
       "      <td>...</td>\n",
       "      <td>...</td>\n",
       "      <td>...</td>\n",
       "      <td>...</td>\n",
       "      <td>...</td>\n",
       "      <td>...</td>\n",
       "    </tr>\n",
       "    <tr>\n",
       "      <td>1394</td>\n",
       "      <td>1395</td>\n",
       "      <td>0</td>\n",
       "      <td>ABOVEGROUND</td>\n",
       "      <td>MRT</td>\n",
       "      <td>C4A81D72C19F0FB1</td>\n",
       "      <td>2014-06-23</td>\n",
       "      <td>28146.8723</td>\n",
       "      <td>41785.7053</td>\n",
       "      <td>47.436025</td>\n",
       "      <td>LINESTRING (28166.957 41773.089, 28166.118 417...</td>\n",
       "    </tr>\n",
       "    <tr>\n",
       "      <td>1395</td>\n",
       "      <td>1396</td>\n",
       "      <td>0</td>\n",
       "      <td>ABOVEGROUND</td>\n",
       "      <td>MRT</td>\n",
       "      <td>F8D322A23246EFF5</td>\n",
       "      <td>2014-06-23</td>\n",
       "      <td>28142.1483</td>\n",
       "      <td>41783.5963</td>\n",
       "      <td>49.979993</td>\n",
       "      <td>LINESTRING (28163.310 41770.304, 28162.141 417...</td>\n",
       "    </tr>\n",
       "    <tr>\n",
       "      <td>1396</td>\n",
       "      <td>1397</td>\n",
       "      <td>0</td>\n",
       "      <td>UNDERGROUND</td>\n",
       "      <td>MRT</td>\n",
       "      <td>4D22380084C39AFD</td>\n",
       "      <td>2014-06-23</td>\n",
       "      <td>32235.2111</td>\n",
       "      <td>29744.2289</td>\n",
       "      <td>95.977346</td>\n",
       "      <td>LINESTRING (32212.536 29769.499, 32235.719 297...</td>\n",
       "    </tr>\n",
       "    <tr>\n",
       "      <td>1397</td>\n",
       "      <td>1398</td>\n",
       "      <td>0</td>\n",
       "      <td>UNDERGROUND</td>\n",
       "      <td>MRT</td>\n",
       "      <td>56222C78A49CB84D</td>\n",
       "      <td>2014-06-23</td>\n",
       "      <td>39359.8106</td>\n",
       "      <td>35450.3667</td>\n",
       "      <td>561.372407</td>\n",
       "      <td>LINESTRING (39638.135 35484.169, 39632.161 354...</td>\n",
       "    </tr>\n",
       "    <tr>\n",
       "      <td>1398</td>\n",
       "      <td>1399</td>\n",
       "      <td>0</td>\n",
       "      <td>UNDERGROUND</td>\n",
       "      <td>MRT</td>\n",
       "      <td>B342157470B5AD4A</td>\n",
       "      <td>2014-06-23</td>\n",
       "      <td>39363.8663</td>\n",
       "      <td>35440.7655</td>\n",
       "      <td>571.576093</td>\n",
       "      <td>LINESTRING (39647.329 35474.779, 39641.513 354...</td>\n",
       "    </tr>\n",
       "  </tbody>\n",
       "</table>\n",
       "<p>1397 rows × 10 columns</p>\n",
       "</div>"
      ],
      "text/plain": [
       "      OBJECTID  OID_1   GRND_LEVEL TYPE           INC_CRC  FMEL_UPD_D  \\\n",
       "0            1      0  UNDERGROUND  MRT  43215EF9C877C56F  2014-06-23   \n",
       "1            2      0  UNDERGROUND  MRT  6105B200FED9F6AB  2014-06-23   \n",
       "2            3      0  UNDERGROUND  MRT  11D377899E972359  2014-06-23   \n",
       "3            4      0  UNDERGROUND  MRT  8743FDEC51A13827  2014-06-23   \n",
       "4            5      0  UNDERGROUND  MRT  8D1604C6958EBC87  2014-06-23   \n",
       "...        ...    ...          ...  ...               ...         ...   \n",
       "1394      1395      0  ABOVEGROUND  MRT  C4A81D72C19F0FB1  2014-06-23   \n",
       "1395      1396      0  ABOVEGROUND  MRT  F8D322A23246EFF5  2014-06-23   \n",
       "1396      1397      0  UNDERGROUND  MRT  4D22380084C39AFD  2014-06-23   \n",
       "1397      1398      0  UNDERGROUND  MRT  56222C78A49CB84D  2014-06-23   \n",
       "1398      1399      0  UNDERGROUND  MRT  B342157470B5AD4A  2014-06-23   \n",
       "\n",
       "          X_ADDR      Y_ADDR  SHAPE_Leng  \\\n",
       "0     29859.1013  30997.7625  826.574555   \n",
       "1     29847.8403  30983.1468  815.626905   \n",
       "2     29043.1323  31328.9357  610.083840   \n",
       "3     29039.5927  31316.4599  608.693508   \n",
       "4     28136.7387  31429.3362  854.419016   \n",
       "...          ...         ...         ...   \n",
       "1394  28146.8723  41785.7053   47.436025   \n",
       "1395  28142.1483  41783.5963   49.979993   \n",
       "1396  32235.2111  29744.2289   95.977346   \n",
       "1397  39359.8106  35450.3667  561.372407   \n",
       "1398  39363.8663  35440.7655  571.576093   \n",
       "\n",
       "                                               geometry  \n",
       "0     LINESTRING (29513.376 31211.449, 29513.618 312...  \n",
       "1     LINESTRING (29508.584 31196.830, 29508.817 311...  \n",
       "2     LINESTRING (28744.000 31388.314, 28820.801 313...  \n",
       "3     LINESTRING (28740.927 31374.606, 28809.279 313...  \n",
       "4     LINESTRING (27871.646 31719.024, 27871.921 317...  \n",
       "...                                                 ...  \n",
       "1394  LINESTRING (28166.957 41773.089, 28166.118 417...  \n",
       "1395  LINESTRING (28163.310 41770.304, 28162.141 417...  \n",
       "1396  LINESTRING (32212.536 29769.499, 32235.719 297...  \n",
       "1397  LINESTRING (39638.135 35484.169, 39632.161 354...  \n",
       "1398  LINESTRING (39647.329 35474.779, 39641.513 354...  \n",
       "\n",
       "[1397 rows x 10 columns]"
      ]
     },
     "execution_count": 366,
     "metadata": {},
     "output_type": "execute_result"
    }
   ],
   "source": [
    "data"
   ]
  },
  {
   "cell_type": "code",
   "execution_count": 276,
   "metadata": {},
   "outputs": [
    {
     "data": {
      "text/plain": [
       "OBJECTID      0\n",
       "OID_1         0\n",
       "GRND_LEVEL    0\n",
       "TYPE          0\n",
       "INC_CRC       0\n",
       "FMEL_UPD_D    0\n",
       "X_ADDR        0\n",
       "Y_ADDR        0\n",
       "SHAPE_Leng    0\n",
       "geometry      0\n",
       "dtype: int64"
      ]
     },
     "execution_count": 276,
     "metadata": {},
     "output_type": "execute_result"
    }
   ],
   "source": [
    "data.isnull().sum()"
   ]
  },
  {
   "cell_type": "code",
   "execution_count": 255,
   "metadata": {},
   "outputs": [
    {
     "data": {
      "image/svg+xml": [
       "<svg xmlns=\"http://www.w3.org/2000/svg\" xmlns:xlink=\"http://www.w3.org/1999/xlink\" width=\"300\" height=\"300\" viewBox=\"29489.769906113375 30631.502986357453 623.8678075295102 603.5520075285967\" preserveAspectRatio=\"xMinYMin meet\"><g transform=\"matrix(1,0,0,-1,0,61866.5579802435)\"><path fill-rule=\"evenodd\" fill=\"#66cc99\" stroke=\"#555555\" stroke-width=\"4.159118716863401\" opacity=\"0.6\" d=\"M 29513.773644249948,31211.84478875218 L 29520.118213006,31209.778326922195 L 29526.7057794282,31207.642935054042 L 29526.710301296695,31207.641445440913 L 29533.80360269582,31205.267245384555 L 29539.54485719342,31203.353627206725 L 29547.602638768236,31200.67719940395 L 29558.160888546365,31197.183643231456 L 29565.655802856785,31194.783275260314 L 29565.66822786992,31194.77911567515 L 29574.033427869803,31191.85621567456 L 29574.035897538717,31191.855345479977 L 29581.292536928104,31189.277068442716 L 29587.767061535655,31187.074048900828 L 29587.779248124287,31187.069725679044 L 29594.97281924258,31184.41257328427 L 29602.9481903257,31181.471620823173 L 29602.960001899144,31181.467094724034 L 29610.35836987752,31178.524245009066 L 29619.450235673357,31174.958989771883 L 29619.458508532607,31174.95566025755 L 29628.264108533152,31171.32016025676 L 29628.269981705133,31171.31769153367 L 29634.81798170462,31168.51609153378 L 29634.828302307287,31168.51153739018 L 29642.445457983333,31165.04715755037 L 29649.749113680296,31161.72707768944 L 29649.761260278436,31161.72135811203 L 29656.774160278874,31158.303358112433 L 29656.776445219064,31158.302237255433 L 29663.024945218818,31155.21733725437 L 29663.02918132284,31155.215220871698 L 29670.38828132284,31151.494920871537 L 29670.394233607985,31151.49186158203 L 29677.43383360777,31147.813961582488 L 29677.440467657572,31147.8104318535 L 29684.3361676578,31144.074731853423 L 29684.341793250347,31144.07163734188 L 29691.01609325042,31140.344237342604 L 29691.024617701434,31140.3393662808 L 29698.677217701115,31135.86626627981 L 29698.681294823575,31135.863857141896 L 29706.722494823436,31131.060857142522 L 29706.724545084846,31131.059625861377 L 29713.6903450852,31126.85362586114 L 29713.69918691402,31126.848160889658 L 29719.396686913795,31123.244260889205 L 29719.399987556975,31123.242154959997 L 29726.73808755726,31118.519654959848 L 29726.74672534283,31118.513968860138 L 29733.01032534301,31114.29726886131 L 29733.01718647752,31114.292566492022 L 29740.291086476966,31109.217866492258 L 29740.29887365586,31109.21232227968 L 29746.353073655988,31104.814122279975 L 29746.35357182808,31104.813759903398 L 29753.477571827916,31099.62495990188 L 29753.484637417623,31099.61971788957 L 29760.18936614089,31094.55337175031 L 29766.418994839863,31089.84952558798 L 29766.43331795756,31089.838295442547 L 29777.073617957645,31081.178395442228 L 29777.07677473291,31081.17580471163 L 29783.988774732454,31075.45580471096 L 29783.994700463223,31075.450823103696 L 29789.840900463718,31070.458323103994 L 29789.843906279162,31070.45573553137 L 29794.817606279135,31066.139635531898 L 29794.829065383426,31066.129378337722 L 29802.117265382796,31059.400878338452 L 29802.119302823045,31059.39898684517 L 29808.049202822916,31053.86308684469 L 29808.05790428249,31053.8547652182 L 29814.142704282793,31047.89366521731 L 29814.146064117802,31047.890342426297 L 29820.99886411826,31041.0487424273 L 29821.00256953565,31041.045003914904 L 29827.555269535533,31034.363803913515 L 29827.56267621069,31034.356088633944 L 29834.43767621069,31027.03958863515 L 29834.444318240934,31027.032379750723 L 29841.54941824028,31019.16757975016 L 29841.554499567024,31019.16186792745 L 29847.68649956724,31012.16196792728 L 29847.689881734717,31012.15806660241 L 29852.928281734865,31006.05216660349 L 29852.934273563027,31006.045049576234 L 29858.79117356304,30998.955449575704 L 29858.796978814986,30998.948289076277 L 29863.956478815053,30992.46298907552 L 29863.95829047282,30992.460698187424 L 29869.93709047251,30984.854798188506 L 29869.94563602992,30984.84360614422 L 29876.77513602991,30975.633006144344 L 29876.77828716543,30975.628708689528 L 29882.012087165942,30968.410608689355 L 29882.015834804843,30968.405369515676 L 29887.087534804115,30961.217769515846 L 29887.090503400046,30961.21351575957 L 29893.015712285007,30952.62862732482 L 29898.435218711275,30944.8342371878 L 29898.441776067626,30944.824567210308 L 29904.471976067547,30935.704367209604 L 29904.474230758733,30935.70092648566 L 29909.760277447265,30927.561424499065 L 29916.304279751723,30917.55797826327 L 29922.295752436617,30908.620604036623 L 29927.29669292934,30901.19068958754 L 29927.29849493493,30901.187993508454 L 29932.54525883768,30893.282653261514 L 29936.34931513724,30887.625607936305 L 29936.35228445795,30887.621140669908 L 29938.48532079254,30884.37439863765 L 30048.168372791086,30718.90797792198 L 30055.485391114693,30707.918200985576 L 30055.48817798226,30707.913968925546 L 30060.24026964773,30700.617345541963 L 30064.330624672686,30694.515197946614 L 30064.332375673213,30694.51256780674 L 30070.588905547727,30685.05009124701 L 30075.127911800937,30678.341798886795 L 30075.129769025447,30678.339034261957 L 30080.68246902533,30670.01363426152 L 30087.68642712823,30659.494348420576 L 30089.961660419645,30656.117486356554 L 30089.963402681824,30656.114882959057 L 30090.447902681146,30655.385982960466 L 30090.47302706262,30655.34383557479 L 30090.493899297115,30655.29942852027 L 30090.510318373603,30655.25318946112 L 30090.522126167398,30655.205563704752 L 30090.529208962995,30655.157009913237 L 30090.5314985492,30655.107995686132 L 30090.528972876044,30655.05899305723 L 30090.52165626714,30655.010473948645 L 30090.509619185435,30654.962905625907 L 30090.4929775546,30654.916746197974 L 30090.471891642643,30654.87244020537 L 30090.44656451842,30654.83041433902 L 30090.417240095987,30654.79107333099 L 30090.384200785556,30654.754796056695 L 30090.34776477375,30654.72193188612 L 30090.30828295928,30654.692797319192 L 30090.2661355736,30654.667672937718 L 30090.22172851908,30654.646800703224 L 30090.175489459933,30654.630381626735 L 30090.127863703565,30654.61857383294 L 30090.07930991205,30654.611491037344 L 30090.030295684945,30654.609201451138 L 30089.981293056044,30654.611727124295 L 30089.932773947457,30654.619043733197 L 30089.88520562472,30654.631080814903 L 30089.839046196787,30654.647722445738 L 30089.794740204183,30654.668808357696 L 30089.752714337832,30654.694135481917 L 30089.713373329803,30654.72345990435 L 30089.677096055508,30654.75649921478 L 30089.644231884933,30654.79293522659 L 30089.615097318005,30654.83241704106 L 30089.131464371956,30655.560012612135 L 30086.856339580325,30658.936713642644 L 30086.854812418806,30658.938993707074 L 30079.850421634455,30669.45892967512 L 30074.29875498297,30677.782780332214 L 30069.759188198997,30684.491901112582 L 30069.756224327153,30684.49633219304 L 30063.499095672756,30693.959714357108 L 30059.40777532746,30700.063302054146 L 30059.404122017222,30700.068831075732 L 30054.651604728653,30707.36610798448 L 30047.335708884668,30718.354199015488 L 30047.33514639112,30718.355045715718 L 29937.651246391524,30883.822745714708 L 29937.6501155417,30883.82445932937 L 29935.51798822029,30887.069817732452 L 29931.714584862246,30892.725892062637 L 29931.712905065262,30892.728406490136 L 29926.466201696985,30900.633655529306 L 29921.465907070677,30908.062610412442 L 29921.465388771736,30908.063381998254 L 29915.47208877246,30917.003481997563 L 29915.46897818695,30917.00817899942 L 29908.92297818686,30927.014678999552 L 29908.922069241406,30927.01607351452 L 29903.636689509523,30935.154548515296 L 29897.610846116324,30944.26815949331 L 29892.1941812887,30952.0584628138 L 29892.193196599517,30952.05988424166 L 29886.26896986426,30960.643349664024 L 29881.200622140568,30967.82619882765 L 29875.970276951197,30975.039534187927 L 29869.146557940185,30984.24233766139 L 29863.17301201052,30991.841553721857 L 29858.01729080647,30998.322103916278 L 29852.16628924313,31005.40456403792 L 29846.93259927671,31011.50497400268 L 29840.80481926184,31018.5000567368 L 29833.70556744123,31026.358383252667 L 29826.837585867506,31033.66741411461 L 29820.290473334244,31040.342917077833 L 29813.44120794889,31047.180988238586 L 29807.36239634614,31053.136221582125 L 29801.437913267342,31058.6670645777 L 29794.156385286256,31065.38940493879 L 29789.189991497882,31069.69916472074 L 29783.34824311898,31074.687863153475 L 29776.4407983655,31080.404093477133 L 29765.809141386297,31089.056959117843 L 29759.5867051607,31093.755374412638 L 29752.885272317024,31098.819230020832 L 29745.765077144646,31104.00525875779 L 29739.714993433117,31108.400468393695 L 29732.448424532915,31113.470053787907 L 29726.192564148027,31117.681543422757 L 29718.86045864182,31122.400185612536 L 29713.169005596665,31126.000260668756 L 29706.20867857354,31130.202956046087 L 29698.17053803294,31135.00412863378 L 29690.524220611514,31139.473556340283 L 29683.857009611987,31143.196997341518 L 29676.967436104467,31146.929378354573 L 29669.93413229784,31150.60398885346 L 29662.580131718685,31154.32171090586 L 29656.334895825814,31157.404999409235 L 29649.329174622122,31160.819500552825 L 29642.031586319707,31164.13682231079 L 29634.419432304978,31167.59892732064 L 29627.87954701716,31170.397055393805 L 29619.081013049934,31174.02963809604 L 29609.9921643267,31177.593710228 L 29609.989898101212,31177.594605275463 L 29602.596275259835,31180.53556751672 L 29594.626709674656,31183.474379175426 L 29587.438817215883,31186.129433913477 L 29580.967238464007,31188.331451099515 L 29580.96090246113,31188.333654519338 L 29573.70233615593,31190.912616187943 L 29565.344557383236,31193.832923123817 L 29557.85359714308,31196.232024739773 L 29557.849032896444,31196.23351070709 L 29547.28823289635,31199.72791070729 L 29547.287689668567,31199.72809079768 L 29539.229389668883,31202.404690797568 L 29539.228896030694,31202.404855046872 L 29533.487096030734,31204.318655046154 L 29533.48649870334,31204.31885455947 L 29526.39515609126,31206.6923989899 L 29519.809520571886,31208.82716494646 L 29519.808853570376,31208.827381675317 L 29513.463553570215,31210.894081675633 L 29513.462758145124,31210.89434148648 L 29513.220358145252,31210.97374148571 L 29513.174533924623,31210.99128507336 L 29513.130649932435,31211.013235742907 L 29513.08912879552,31211.0393820974 L 29513.050370385125,31211.06947233315 L 29513.01474796593,31211.103216664742 L 29512.982604601308,31211.140290115818 L 29512.954249849427,31211.180335648773 L 29512.92995678205,31211.222967603237 L 29512.909959354693,31211.26777541018 L 29512.89445015352,31211.314327545926 L 29512.883578540608,31211.362175687966 L 29512.87744921554,31211.410859032534 L 29512.87612120706,31211.459908732402 L 29512.87960730462,31211.508852412157 L 29512.887873935197,31211.557218717397 L 29512.900841486615,31211.604541854173 L 29512.918385074263,31211.650366074802 L 29512.94033574381,31211.69425006699 L 29512.9664820983,31211.735771203905 L 29512.996572334054,31211.7745296143 L 29513.030316665645,31211.810152033493 L 29513.06739011672,31211.842295398117 L 29513.107435649676,31211.87065015 L 29513.15006760414,31211.894943217376 L 29513.19487541108,31211.914940644732 L 29513.24142754683,31211.930449845906 L 29513.28927568887,31211.941321458817 L 29513.337959033437,31211.947450783886 L 29513.387008733305,31211.948778792364 L 29513.43595241306,31211.945292694803 L 29513.4843187183,31211.937026064228 L 29513.531641855076,31211.92405851281 L 29513.773644249948,31211.84478875218 z\" /></g></svg>"
      ],
      "text/plain": [
       "<shapely.geometry.polygon.Polygon at 0x1278b4750>"
      ]
     },
     "execution_count": 255,
     "metadata": {},
     "output_type": "execute_result"
    }
   ],
   "source": [
    "data['geometry'][0].buffer(0.5)"
   ]
  },
  {
   "cell_type": "code",
   "execution_count": 197,
   "metadata": {
    "scrolled": true
   },
   "outputs": [
    {
     "data": {
      "text/plain": [
       "[29513.376000000164,\n",
       " 29513.618400000036,\n",
       " 29519.963700000197,\n",
       " 29526.55159999989,\n",
       " 29533.645200000145,\n",
       " 29539.387000000104,\n",
       " 29547.44529999979,\n",
       " 29558.006099999882,\n",
       " 29565.503299999982,\n",
       " 29573.868499999866,\n",
       " 29581.128299999982,\n",
       " 29587.60599999968,\n",
       " 29594.799700000323,\n",
       " 29602.775200000033,\n",
       " 29610.174700000323,\n",
       " 29619.267699999735,\n",
       " 29628.07330000028,\n",
       " 29634.621299999766,\n",
       " 29642.238499999978,\n",
       " 29649.542200000025,\n",
       " 29656.555100000463,\n",
       " 29662.803600000218,\n",
       " 29670.16270000022,\n",
       " 29677.202300000004,\n",
       " 29684.09800000023,\n",
       " 29690.772300000302,\n",
       " 29698.424899999984,\n",
       " 29706.466099999845,\n",
       " 29713.4319000002,\n",
       " 29719.129399999976,\n",
       " 29726.46750000026,\n",
       " 29732.73110000044,\n",
       " 29740.00499999989,\n",
       " 29746.059200000018,\n",
       " 29753.183199999854,\n",
       " 29759.88800000027,\n",
       " 29766.117700000294,\n",
       " 29776.75800000038,\n",
       " 29783.669999999925,\n",
       " 29789.51620000042,\n",
       " 29794.489900000393,\n",
       " 29801.778099999763,\n",
       " 29807.707999999635,\n",
       " 29813.792799999937,\n",
       " 29820.645600000396,\n",
       " 29827.19830000028,\n",
       " 29834.07330000028,\n",
       " 29841.178399999626,\n",
       " 29847.310399999842,\n",
       " 29852.54879999999,\n",
       " 29858.405700000003,\n",
       " 29863.56520000007,\n",
       " 29869.54399999976,\n",
       " 29876.373499999754,\n",
       " 29881.607300000265,\n",
       " 29886.678999999538,\n",
       " 29892.604700000025,\n",
       " 29898.02469999995,\n",
       " 29904.054899999872,\n",
       " 29909.341400000267,\n",
       " 29915.887400000356,\n",
       " 29921.88069999963,\n",
       " 29926.881900000386,\n",
       " 29932.129499999806,\n",
       " 29935.934399999678,\n",
       " 29938.06799999997,\n",
       " 30047.751899999566,\n",
       " 30055.069199999794,\n",
       " 30059.82309999969,\n",
       " 30063.91530000046,\n",
       " 30070.173299999908,\n",
       " 30074.713800000027,\n",
       " 30080.26649999991,\n",
       " 30087.270999999717,\n",
       " 30089.547000000253,\n",
       " 30090.031499999575]"
      ]
     },
     "execution_count": 197,
     "metadata": {},
     "output_type": "execute_result"
    }
   ],
   "source": [
    "x"
   ]
  },
  {
   "cell_type": "code",
   "execution_count": null,
   "metadata": {},
   "outputs": [],
   "source": []
  },
  {
   "cell_type": "code",
   "execution_count": 227,
   "metadata": {},
   "outputs": [],
   "source": [
    "import math\n",
    "\n",
    "class SVY21:\n",
    "    # Ref: http://www.linz.govt.nz/geodetic/conversion-coordinates/projection-conversions/transverse-mercator-preliminary-computations/index.aspx\n",
    "    \n",
    "    # WGS84 Datum\n",
    "    a = 6378137\n",
    "    f = 1 / 298.257223563\n",
    "\n",
    "    # SVY21 Projection\n",
    "    # Fundamental point: Base 7 at Pierce Resevoir.\n",
    "    # Latitude: 1 22 02.9154 N, longitude: 103 49 31.9752 E (of Greenwich).\n",
    "\n",
    "    # Known Issue: Setting (oLat, oLon) to the exact coordinates specified above\n",
    "    # results in computation being slightly off. The values below give the most \n",
    "    # accurate represenation of test data.\n",
    "    oLat = 1.366666     # origin's lat in degrees\n",
    "    oLon = 103.833333   # origin's lon in degrees\n",
    "    oN = 38744.572      # false Northing\n",
    "    oE = 28001.642      # false Easting\n",
    "    k = 1               # scale factor\n",
    "\n",
    "    def __init__(self):\n",
    "        self.b = self.a * (1 - self.f)\n",
    "        self.e2 = (2 * self.f) - (self.f * self.f)\n",
    "        self.e4 = self.e2 * self.e2\n",
    "        self.e6 = self.e4 * self.e2\n",
    "        self.A0 = 1 - (self.e2 / 4) - (3 * self.e4 / 64) - (5 * self.e6 / 256);\n",
    "        self.A2 = (3. / 8.) * (self.e2 + (self.e4 / 4) + (15 * self.e6 / 128));\n",
    "        self.A4 = (15. / 256.) * (self.e4 + (3 * self.e6 / 4));\n",
    "        self.A6 = 35 * self.e6 / 3072;\n",
    "\n",
    "    def computeSVY21(self, lat, lon):\n",
    "        \"\"\"\n",
    "        Returns a pair (N, E) representing Northings and Eastings in SVY21.\n",
    "        \"\"\"\n",
    "\n",
    "        latR = lat * math.pi / 180\n",
    "        sinLat = math.sin(latR)\n",
    "        sin2Lat = sinLat * sinLat\n",
    "        cosLat = math.cos(latR)\n",
    "        cos2Lat = cosLat * cosLat\n",
    "        cos3Lat = cos2Lat * cosLat\n",
    "        cos4Lat = cos3Lat * cosLat\n",
    "        cos5Lat = cos4Lat * cosLat\n",
    "        cos6Lat = cos5Lat * cosLat\n",
    "        cos7Lat = cos6Lat * cosLat\n",
    "\n",
    "        rho = self.calcRho(sin2Lat)\n",
    "        v = self.calcV(sin2Lat)\n",
    "        psi = v / rho\n",
    "        t = math.tan(latR)\n",
    "        w = (lon - self.oLon) * math.pi / 180\n",
    "\n",
    "        M = self.calcM(lat)\n",
    "        Mo = self.calcM(self.oLat)\n",
    "\n",
    "        w2 = w * w\n",
    "        w4 = w2 * w2\n",
    "        w6 = w4 * w2\n",
    "        w8 = w6 * w2\n",
    "\n",
    "        psi2 = psi * psi\n",
    "        psi3 = psi2 * psi\n",
    "        psi4 = psi3 * psi\n",
    "\n",
    "        t2 = t * t\n",
    "        t4 = t2 * t2\n",
    "        t6 = t4 * t2\n",
    "\n",
    "        # Compute Northing\n",
    "        nTerm1 = w2 / 2 * v * sinLat * cosLat\n",
    "        nTerm2 = w4 / 24 * v * sinLat * cos3Lat * (4 * psi2 + psi - t2)\n",
    "        nTerm3 = w6 / 720 * v * sinLat * cos5Lat * ((8 * psi4) * (11 - 24 * t2) - (28 * psi3) * (1 - 6 * t2) + psi2 * (1 - 32 * t2) - psi * 2 * t2 + t4)\n",
    "        nTerm4 = w8 / 40320 * v * sinLat * cos7Lat * (1385 - 3111 * t2 + 543 * t4 - t6)\n",
    "        N = self.oN + self.k * (M - Mo + nTerm1 + nTerm2 + nTerm3 + nTerm4)\n",
    "\n",
    "        # Compute Easting\n",
    "        eTerm1 = w2 / 6 * cos2Lat * (psi - t2)\n",
    "        eTerm2 = w4 / 120 * cos4Lat * ((4 * psi3) * (1 - 6 * t2) + psi2 * (1 + 8 * t2) - psi * 2 * t2 + t4)\n",
    "        eTerm3 = w6 / 5040 * cos6Lat * (61 - 479 * t2 + 179 * t4 - t6)\n",
    "        E = self.oE + self.k * v * w * cosLat * (1 + eTerm1 + eTerm2 + eTerm3)\n",
    "\n",
    "        return (N, E)\n",
    "\n",
    "    def calcM(self, lat):\n",
    "        latR = lat * math.pi / 180\n",
    "        return self.a * ((self.A0 * latR) - (self.A2 * math.sin(2 * latR)) + (self.A4 * math.sin(4 * latR)) - (self.A6 * math.sin(6 * latR)))\n",
    "\n",
    "    def calcRho(self, sin2Lat):\n",
    "        num = self.a * (1 - self.e2)\n",
    "        denom = math.pow(1 - self.e2 * sin2Lat, 3. / 2.)\n",
    "        return num / denom\n",
    "\n",
    "    def calcV(self, sin2Lat):\n",
    "        poly = 1 - self.e2 * sin2Lat\n",
    "        return self.a / math.sqrt(poly)\n",
    "\n",
    "    def computeLatLon(self, N, E):\n",
    "        \"\"\"\n",
    "        Returns a pair (lat, lon) representing Latitude and Longitude.\n",
    "        \"\"\"\n",
    "\n",
    "        Nprime = N - self.oN\n",
    "        Mo = self.calcM(self.oLat)\n",
    "        Mprime = Mo + (Nprime / self.k)\n",
    "        n = (self.a - self.b) / (self.a + self.b)\n",
    "        n2 = n * n\n",
    "        n3 = n2 * n\n",
    "        n4 = n2 * n2\n",
    "        G = self.a * (1 - n) * (1 - n2) * (1 + (9 * n2 / 4) + (225 * n4 / 64)) * (math.pi / 180)\n",
    "        sigma = (Mprime * math.pi) / (180. * G)\n",
    "        \n",
    "        latPrimeT1 = ((3 * n / 2) - (27 * n3 / 32)) * math.sin(2 * sigma)\n",
    "        latPrimeT2 = ((21 * n2 / 16) - (55 * n4 / 32)) * math.sin(4 * sigma)\n",
    "        latPrimeT3 = (151 * n3 / 96) * math.sin(6 * sigma)\n",
    "        latPrimeT4 = (1097 * n4 / 512) * math.sin(8 * sigma)\n",
    "        latPrime = sigma + latPrimeT1 + latPrimeT2 + latPrimeT3 + latPrimeT4\n",
    "\n",
    "        sinLatPrime = math.sin(latPrime)\n",
    "        sin2LatPrime = sinLatPrime * sinLatPrime\n",
    "\n",
    "        rhoPrime = self.calcRho(sin2LatPrime)\n",
    "        vPrime = self.calcV(sin2LatPrime)\n",
    "        psiPrime = vPrime / rhoPrime\n",
    "        psiPrime2 = psiPrime * psiPrime\n",
    "        psiPrime3 = psiPrime2 * psiPrime\n",
    "        psiPrime4 = psiPrime3 * psiPrime\n",
    "        tPrime = math.tan(latPrime)\n",
    "        tPrime2 = tPrime * tPrime\n",
    "        tPrime4 = tPrime2 * tPrime2\n",
    "        tPrime6 = tPrime4 * tPrime2\n",
    "        Eprime = E - self.oE\n",
    "        x = Eprime / (self.k * vPrime)\n",
    "        x2 = x * x\n",
    "        x3 = x2 * x\n",
    "        x5 = x3 * x2\n",
    "        x7 = x5 * x2\n",
    "\n",
    "        # Compute Latitude\n",
    "        latFactor = tPrime / (self.k * rhoPrime)\n",
    "        latTerm1 = latFactor * ((Eprime * x) / 2)\n",
    "        latTerm2 = latFactor * ((Eprime * x3) / 24) * ((-4 * psiPrime2) + (9 * psiPrime) * (1 - tPrime2) + (12 * tPrime2))\n",
    "        latTerm3 = latFactor * ((Eprime * x5) / 720) * ((8 * psiPrime4) * (11 - 24 * tPrime2) - (12 * psiPrime3) * (21 - 71 * tPrime2) + (15 * psiPrime2) * (15 - 98 * tPrime2 + 15 * tPrime4) + (180 * psiPrime) * (5 * tPrime2 - 3 * tPrime4) + 360 * tPrime4)\n",
    "        latTerm4 = latFactor * ((Eprime * x7) / 40320) * (1385 - 3633 * tPrime2 + 4095 * tPrime4 + 1575 * tPrime6)\n",
    "        lat = latPrime - latTerm1 + latTerm2 - latTerm3 + latTerm4\n",
    "\n",
    "        # Compute Longitude\n",
    "        secLatPrime = 1. / math.cos(lat)\n",
    "        lonTerm1 = x * secLatPrime\n",
    "        lonTerm2 = ((x3 * secLatPrime) / 6) * (psiPrime + 2 * tPrime2)\n",
    "        lonTerm3 = ((x5 * secLatPrime) / 120) * ((-4 * psiPrime3) * (1 - 6 * tPrime2) + psiPrime2 * (9 - 68 * tPrime2) + 72 * psiPrime * tPrime2 + 24 * tPrime4)\n",
    "        lonTerm4 = ((x7 * secLatPrime) / 5040) * (61 + 662 * tPrime2 + 1320 * tPrime4 + 720 * tPrime6)\n",
    "        lon = (self.oLon * math.pi / 180) + lonTerm1 - lonTerm2 + lonTerm3 - lonTerm4\n",
    "\n",
    "        return (lat / (math.pi / 180), lon / (math.pi / 180))"
   ]
  },
  {
   "cell_type": "code",
   "execution_count": 240,
   "metadata": {},
   "outputs": [
    {
     "name": "stdout",
     "output_type": "stream",
     "text": [
      "1.2985390673674464 103.84691660254427\n"
     ]
    }
   ],
   "source": [
    "calc = SVY21()\n",
    "\n",
    "lat, lon = calc.computeLatLon(31211.44889999926,29513.376000000164)\n",
    "\n",
    "\n",
    "print(lat,lon)\n",
    "# SVY/21/."
   ]
  },
  {
   "cell_type": "code",
   "execution_count": 234,
   "metadata": {},
   "outputs": [
    {
     "data": {
      "text/plain": [
       "29513.376000000164"
      ]
     },
     "execution_count": 234,
     "metadata": {},
     "output_type": "execute_result"
    }
   ],
   "source": [
    "x[0]"
   ]
  },
  {
   "cell_type": "code",
   "execution_count": 237,
   "metadata": {},
   "outputs": [
    {
     "data": {
      "text/plain": [
       "103.8520984049067"
      ]
     },
     "execution_count": 237,
     "metadata": {},
     "output_type": "execute_result"
    }
   ],
   "source": [
    "x_lat[0]"
   ]
  },
  {
   "cell_type": "code",
   "execution_count": 238,
   "metadata": {},
   "outputs": [
    {
     "data": {
      "text/plain": [
       "31211.44889999926"
      ]
     },
     "execution_count": 238,
     "metadata": {},
     "output_type": "execute_result"
    }
   ],
   "source": [
    "y[0]"
   ]
  },
  {
   "cell_type": "code",
   "execution_count": 239,
   "metadata": {},
   "outputs": [
    {
     "data": {
      "text/plain": [
       "1.293508360354313"
      ]
     },
     "execution_count": 239,
     "metadata": {},
     "output_type": "execute_result"
    }
   ],
   "source": [
    "y_lon[0]"
   ]
  },
  {
   "cell_type": "code",
   "execution_count": 225,
   "metadata": {},
   "outputs": [
    {
     "name": "stderr",
     "output_type": "stream",
     "text": [
      "/opt/anaconda3/lib/python3.7/site-packages/pyproj/crs.py:422: FutureWarning: '+init=<authority>:<code>' syntax is deprecated. '<authority>:<code>' is the preferred initialization method.\n",
      "  projstring = _prepare_from_string(projparams)\n",
      "/opt/anaconda3/lib/python3.7/site-packages/pyproj/crs.py:422: FutureWarning: '+init=<authority>:<code>' syntax is deprecated. '<authority>:<code>' is the preferred initialization method.\n",
      "  projstring = _prepare_from_string(projparams)\n"
     ]
    }
   ],
   "source": [
    "from pyproj import Proj, transform\n",
    "\n",
    "# inProj = Proj(init='epsg:3857')\n",
    "# outProj = Proj(init='epsg:4326')\n",
    "\n",
    "inProj  = Proj(\"+init=EPSG:32626\")\n",
    "outProj = Proj(\"+init=EPSG:4326\")\n",
    "\n",
    "x2,y2 = transform(inProj, outProj, x[0],y[0])"
   ]
  },
  {
   "cell_type": "code",
   "execution_count": 226,
   "metadata": {},
   "outputs": [
    {
     "name": "stdout",
     "output_type": "stream",
     "text": [
      "-31.224337141706112 0.28160743422098955\n"
     ]
    }
   ],
   "source": [
    "print(x2,y2)"
   ]
  },
  {
   "cell_type": "code",
   "execution_count": 198,
   "metadata": {},
   "outputs": [
    {
     "data": {
      "text/plain": [
       "29513.376000000164"
      ]
     },
     "execution_count": 198,
     "metadata": {},
     "output_type": "execute_result"
    }
   ],
   "source": [
    "x[0]"
   ]
  },
  {
   "cell_type": "code",
   "execution_count": 228,
   "metadata": {},
   "outputs": [
    {
     "data": {
      "text/plain": [
       "31211.44889999926"
      ]
     },
     "execution_count": 228,
     "metadata": {},
     "output_type": "execute_result"
    }
   ],
   "source": [
    "y[0]"
   ]
  },
  {
   "cell_type": "code",
   "execution_count": 168,
   "metadata": {},
   "outputs": [],
   "source": [
    "x_lat = [i for i in df['geometry'][0][0].xy[0]]\n",
    "y_lon = [i for i in df['geometry'][0][0].xy[1]]"
   ]
  },
  {
   "cell_type": "code",
   "execution_count": null,
   "metadata": {},
   "outputs": [],
   "source": []
  },
  {
   "cell_type": "code",
   "execution_count": null,
   "metadata": {},
   "outputs": [],
   "source": []
  },
  {
   "cell_type": "code",
   "execution_count": null,
   "metadata": {},
   "outputs": [],
   "source": []
  },
  {
   "cell_type": "code",
   "execution_count": null,
   "metadata": {},
   "outputs": [],
   "source": []
  },
  {
   "cell_type": "code",
   "execution_count": null,
   "metadata": {},
   "outputs": [],
   "source": []
  },
  {
   "cell_type": "code",
   "execution_count": null,
   "metadata": {},
   "outputs": [],
   "source": []
  },
  {
   "cell_type": "code",
   "execution_count": null,
   "metadata": {},
   "outputs": [],
   "source": []
  },
  {
   "cell_type": "code",
   "execution_count": null,
   "metadata": {},
   "outputs": [],
   "source": []
  },
  {
   "cell_type": "code",
   "execution_count": null,
   "metadata": {},
   "outputs": [],
   "source": []
  },
  {
   "cell_type": "code",
   "execution_count": null,
   "metadata": {},
   "outputs": [],
   "source": []
  },
  {
   "cell_type": "code",
   "execution_count": null,
   "metadata": {},
   "outputs": [],
   "source": []
  },
  {
   "cell_type": "code",
   "execution_count": null,
   "metadata": {},
   "outputs": [],
   "source": []
  },
  {
   "cell_type": "code",
   "execution_count": null,
   "metadata": {},
   "outputs": [],
   "source": []
  },
  {
   "cell_type": "code",
   "execution_count": null,
   "metadata": {},
   "outputs": [],
   "source": []
  },
  {
   "cell_type": "code",
   "execution_count": null,
   "metadata": {},
   "outputs": [],
   "source": []
  },
  {
   "cell_type": "code",
   "execution_count": null,
   "metadata": {},
   "outputs": [],
   "source": []
  },
  {
   "cell_type": "code",
   "execution_count": 179,
   "metadata": {},
   "outputs": [
    {
     "data": {
      "image/svg+xml": [
       "<svg xmlns=\"http://www.w3.org/2000/svg\" xmlns:xlink=\"http://www.w3.org/1999/xlink\" width=\"100.0\" height=\"100.0\" viewBox=\"103.84670967712027 1.293301101593297 0.005595986547447751 0.00544589120240202\" preserveAspectRatio=\"xMinYMin meet\"><g transform=\"matrix(1,0,0,-1,0,2.592048094388996)\"><g><polyline fill=\"none\" stroke=\"#66cc99\" stroke-width=\"0.00011191973094895502\" points=\"103.8520984049067,1.293508360354313 103.8520940515158,1.293514952301722 103.8520736009086,1.293545501896747 103.8520106631816,1.29364064244505 103.8519607703489,1.293715934801187 103.851919972457,1.293776622502153 103.8518637422714,1.293862218331238 103.8518269725026,1.293917429167867 103.8517842571524,1.293983442684997 103.8517185087924,1.294082834665484 103.8507329621187,1.295579273291907 103.8507137909966,1.295608643575327 103.850679602666,1.295659815484151 103.8506324511854,1.295731320315248 103.8505875136842,1.295798517640787 103.8505336618226,1.295879369126053 103.8504748437723,1.295969864790127 103.850427342761,1.296043482215891 103.8503731593375,1.296125962460956 103.8503244587439,1.296196458929993 103.8502712142598,1.296274104432336 103.8502256432519,1.296339106862289 103.850178615704,1.296404385132429 103.8501172502102,1.296487682965793 103.8500635285289,1.296556468405065 103.8500171685476,1.296615119482578 103.8499645421554,1.296679235677086 103.8499174731961,1.296734455597427 103.8498623748996,1.29679776059088 103.8497985329204,1.296868887491435 103.8497367584553,1.296935055744745 103.8496778799572,1.296995478548256 103.8496163049351,1.297057351968951 103.849561630677,1.297111262411693 103.8495083482368,1.297161327485222 103.8494428609396,1.297222178090284 103.849398170303,1.297261211664756 103.8493456399068,1.297306362411795 103.8492835328676,1.297358092472345 103.8491879255731,1.2974364101632 103.8491319492368,1.297478950930763 103.8490717039359,1.297524770046156 103.8490076919426,1.297571696126125 103.8489532925284,1.29761147223675 103.8488879336068,1.297657366441823 103.8488316526273,1.297695501139381 103.8487657168166,1.297738210172082 103.8487145224588,1.297770802888407 103.8486519318962,1.297808840853553 103.8485796784195,1.29785227793355 103.8485109166654,1.297892731490987 103.8484509453275,1.297926441145469 103.8483889846115,1.297960225872732 103.8483257308855,1.297993487883341 103.8482596063111,1.298027133360097 103.8482034609344,1.29805503244225 103.8481404471012,1.298085944002728 103.8480748202945,1.298115970203845 103.8480063765573,1.298147301418086 103.8479475400201,1.298172638444821 103.8478684179875,1.298205517085575 103.8477867135328,1.298237764492082 103.8477202258932,1.298264383042424 103.8476485626364,1.298290980820122 103.8475839241838,1.298315011968701 103.847525719285,1.29833494540243 103.8474604868882,1.298358272955384 103.8473853219975,1.298384707055282 103.8473179564449,1.298406422134079 103.8472230631379,1.298438024783644 103.8471506558631,1.298462231410832 103.8470990633318,1.298479539427366 103.8470353242983,1.298501012108991 103.8469761291915,1.298520325141199 103.8469191139493,1.298539015957269 103.8469169358813,1.298539734034683\" opacity=\"0.8\" /></g></g></svg>"
      ],
      "text/plain": [
       "<shapely.geometry.multilinestring.MultiLineString at 0x125711250>"
      ]
     },
     "execution_count": 179,
     "metadata": {},
     "output_type": "execute_result"
    }
   ],
   "source": [
    "df['geometry'][0]"
   ]
  },
  {
   "cell_type": "code",
   "execution_count": 175,
   "metadata": {
    "scrolled": true
   },
   "outputs": [
    {
     "name": "stdout",
     "output_type": "stream",
     "text": [
      "284.18661205025535\n",
      "284.1889580518214\n",
      "284.25011342038266\n",
      "284.31372114461976\n",
      "284.38216265659946\n",
      "284.43756271270064\n",
      "284.5153108982957\n",
      "284.6171026709633\n",
      "284.6894110821574\n",
      "284.77014078005897\n",
      "284.84274936018215\n",
      "284.90517705584415\n",
      "284.97454049632023\n",
      "285.0514676828252\n",
      "285.122842430705\n",
      "285.2105488109623\n",
      "285.2955014849122\n",
      "285.3586841986691\n",
      "285.4321809178281\n",
      "285.50264387261257\n",
      "285.570319203252\n",
      "285.6306128972545\n",
      "285.7016049032925\n",
      "285.76955987923964\n",
      "285.8361082450916\n",
      "285.90050449209326\n",
      "285.9743383729767\n",
      "286.05189895954567\n",
      "286.1191264051391\n",
      "286.1741651870322\n",
      "286.244996163459\n",
      "286.30547255398665\n",
      "286.3756849392095\n",
      "286.43413349963606\n",
      "286.50287972697\n",
      "286.5676230911559\n",
      "286.6277342424915\n",
      "286.7303382271663\n",
      "286.79706770026576\n",
      "286.85362683192136\n",
      "286.9016749659924\n",
      "286.97202209916594\n",
      "287.02930015875677\n",
      "287.0880433047652\n",
      "287.1542121766916\n",
      "287.21746624720623\n",
      "287.2838506463745\n",
      "287.35241006325634\n",
      "287.4116307217321\n",
      "287.46227336418326\n",
      "287.51886220073266\n",
      "287.56871121478906\n",
      "287.62645518194705\n",
      "287.69239455455397\n",
      "287.742976274051\n",
      "287.79196947053885\n",
      "287.8492053040363\n",
      "287.9015788375225\n",
      "287.95983614328134\n",
      "288.0109054487961\n",
      "288.07415940006547\n",
      "288.13209840032533\n",
      "288.1804418518036\n",
      "288.23117243666854\n",
      "288.26799111527777\n",
      "288.2886981912976\n",
      "289.34508132525207\n",
      "289.4157528069546\n",
      "289.4617183335175\n",
      "289.50138880191287\n",
      "289.5618523001062\n",
      "289.6057190934027\n",
      "289.65936683761714\n",
      "289.72698215660563\n",
      "289.74905810141126\n",
      "289.75372969982544\n"
     ]
    }
   ],
   "source": [
    "for i in range(len(x)):\n",
    "    print(x[i]/x_lat[i])"
   ]
  },
  {
   "cell_type": "code",
   "execution_count": null,
   "metadata": {},
   "outputs": [],
   "source": []
  },
  {
   "cell_type": "code",
   "execution_count": null,
   "metadata": {},
   "outputs": [],
   "source": []
  },
  {
   "cell_type": "code",
   "execution_count": null,
   "metadata": {},
   "outputs": [],
   "source": []
  },
  {
   "cell_type": "code",
   "execution_count": null,
   "metadata": {},
   "outputs": [],
   "source": []
  },
  {
   "cell_type": "code",
   "execution_count": 17,
   "metadata": {},
   "outputs": [
    {
     "data": {
      "text/plain": [
       "0       LINESTRING (29513.376 31211.449, 29513.618 312...\n",
       "1       LINESTRING (29508.584 31196.830, 29508.817 311...\n",
       "2       LINESTRING (28744.000 31388.314, 28820.801 313...\n",
       "3       LINESTRING (28740.927 31374.606, 28809.279 313...\n",
       "4       LINESTRING (27871.646 31719.024, 27871.921 317...\n",
       "                              ...                        \n",
       "1394    LINESTRING (28166.957 41773.089, 28166.118 417...\n",
       "1395    LINESTRING (28163.310 41770.304, 28162.141 417...\n",
       "1396    LINESTRING (32212.536 29769.499, 32235.719 297...\n",
       "1397    LINESTRING (39638.135 35484.169, 39632.161 354...\n",
       "1398    LINESTRING (39647.329 35474.779, 39641.513 354...\n",
       "Name: geometry, Length: 1399, dtype: geometry"
      ]
     },
     "execution_count": 17,
     "metadata": {},
     "output_type": "execute_result"
    }
   ],
   "source": [
    "def linestring_to_points(feature,line):\n",
    "    return {feature:line.coords}\n",
    "\n",
    "gdf['points'] = gdf.apply(lambda l: linestring_to_points(l['xs_ID],l['geometry']),axis=1)"
   ]
  },
  {
   "cell_type": "code",
   "execution_count": null,
   "metadata": {},
   "outputs": [],
   "source": []
  },
  {
   "cell_type": "code",
   "execution_count": 58,
   "metadata": {},
   "outputs": [
    {
     "data": {
      "text/plain": [
       "0       UNDERGROUND\n",
       "1       UNDERGROUND\n",
       "2       UNDERGROUND\n",
       "3       UNDERGROUND\n",
       "4       UNDERGROUND\n",
       "           ...     \n",
       "1394    ABOVEGROUND\n",
       "1395    ABOVEGROUND\n",
       "1396    UNDERGROUND\n",
       "1397    UNDERGROUND\n",
       "1398    UNDERGROUND\n",
       "Name: GRND_LEVEL, Length: 1399, dtype: object"
      ]
     },
     "execution_count": 58,
     "metadata": {},
     "output_type": "execute_result"
    }
   ],
   "source": [
    "data['GRND_LEVEL']"
   ]
  },
  {
   "cell_type": "code",
   "execution_count": 67,
   "metadata": {},
   "outputs": [
    {
     "data": {
      "text/plain": [
       "0        True\n",
       "1        True\n",
       "2        True\n",
       "3        True\n",
       "4        True\n",
       "        ...  \n",
       "1392    False\n",
       "1393    False\n",
       "1394    False\n",
       "1395    False\n",
       "1396     True\n",
       "Length: 1397, dtype: bool"
      ]
     },
     "execution_count": 67,
     "metadata": {},
     "output_type": "execute_result"
    }
   ],
   "source": [
    "df['Name'] ==  data['GRND_LEVEL'][:1397]"
   ]
  },
  {
   "cell_type": "code",
   "execution_count": null,
   "metadata": {},
   "outputs": [],
   "source": []
  },
  {
   "cell_type": "code",
   "execution_count": 26,
   "metadata": {
    "scrolled": false
   },
   "outputs": [
    {
     "data": {
      "image/png": "[encoded data removed]",
      "text/plain": [
       "<Figure size 1080x1080 with 1 Axes>"
      ]
     },
     "metadata": {
      "needs_background": "light"
     },
     "output_type": "display_data"
    }
   ],
   "source": [
    "# plt.figure(figsize=(15,15))\n",
    "data.plot(figsize=(15,15))\n",
    "\n",
    "plt.show()"
   ]
  },
  {
   "cell_type": "code",
   "execution_count": 19,
   "metadata": {},
   "outputs": [
    {
     "data": {
      "text/plain": [
       "<matplotlib.axes._subplots.AxesSubplot at 0x125883ad0>"
      ]
     },
     "execution_count": 19,
     "metadata": {},
     "output_type": "execute_result"
    },
    {
     "data": {
      "image/png": "[encoded data removed]",
      "text/plain": [
       "<Figure size 1080x1080 with 1 Axes>"
      ]
     },
     "metadata": {
      "needs_background": "light"
     },
     "output_type": "display_data"
    }
   ],
   "source": [
    "df.plot(figsize=(15,15))"
   ]
  },
  {
   "cell_type": "code",
   "execution_count": 87,
   "metadata": {},
   "outputs": [
    {
     "data": {
      "image/svg+xml": [
       "<svg xmlns=\"http://www.w3.org/2000/svg\" xmlns:xlink=\"http://www.w3.org/1999/xlink\" width=\"300\" height=\"300\" viewBox=\"32600.090411999972 32860.34091199912 854.9870759998266 352.02197600014915\" preserveAspectRatio=\"xMinYMin meet\"><g transform=\"matrix(1,0,0,-1,0,66072.70379999839)\"><polyline fill=\"none\" stroke=\"#66cc99\" stroke-width=\"5.699913839998844\" points=\"32631.756599999964,32892.007099999115 32632.51929999981,32892.52669999935 32634.172299999744,32893.65269999951 32635.825100000016,32894.778699999675 32637.47800000012,32895.90479999967 32639.130900000222,32897.03079999983 32640.783800000325,32898.15689999983 32642.436700000428,32899.28289999999 32644.0895999996,32900.408900000155 32645.742499999702,32901.53500000015 32647.395299999975,32902.66100000031 32649.048299999908,32903.78700000048 32650.70110000018,32904.91310000047 32652.354000000283,32906.039100000635 32654.006900000386,32907.1651000008 32655.659799999557,32908.29120000079 32657.31269999966,32909.417199999094 32658.965599999763,32910.54329999909 32660.618499999866,32911.66929999925 32662.27139999997,32912.795299999416 32663.92430000007,32913.92139999941 32665.577100000344,32915.047399999574 32667.230000000447,32916.17339999974 32668.88289999962,32917.2993999999 32670.53579999972,32918.425499999896 32672.188699999824,32919.55150000006 32673.841599999927,32920.677600000054 32675.49450000003,32921.80360000022 32677.147400000133,32922.92960000038 32678.800300000235,32924.055700000376 32680.45320000034,32925.18170000054 32682.10610000044,32926.3077000007 32683.758999999613,32927.43370000087 32685.411899999715,32928.55980000086 32687.064699999988,32929.68579999916 32688.71760000009,32930.81179999933 32690.370500000194,32931.93789999932 32692.023400000297,32933.063899999484 32693.6763000004,32934.18989999965 32695.32919999957,32935.31599999964 32696.982099999674,32936.441999999806 32698.634999999776,32937.56799999997 32700.28789999988,32938.694000000134 32701.940799999982,32939.8200000003 32703.593700000085,32940.94610000029 32705.246600000188,32942.072100000456 32706.89950000029,32943.19810000062 32708.552400000393,32944.324200000614 32710.205299999565,32945.45020000078 32711.858199999668,32946.57619999908 32713.51109999977,32947.70219999924 32715.163999999873,32948.82819999941 32716.816899999976,32949.95419999957 32718.46980000008,32951.080299999565 32720.12270000018,32952.20629999973 32721.775600000285,32953.33229999989 32723.428500000387,32954.45830000006 32725.08139999956,32955.58430000022 32726.73429999966,32956.710300000384 32728.387199999765,32957.83630000055 32730.040099999867,32958.96240000054 32731.69299999997,32960.088400000706 32733.345900000073,32961.21440000087 32734.998800000176,32962.34039999917 32736.65180000011,32963.466399999335 32738.30470000021,32964.5923999995 32739.957600000314,32965.71839999966 32741.610500000417,32966.84439999983 32743.26339999959,32967.97039999999 32744.91629999969,32969.096400000155 32746.569199999794,32970.22240000032 32748.222099999897,32971.34840000048 32749.875,32972.47440000065 32751.527999999933,32973.60040000081 32753.180900000036,32974.72639999911 32754.83380000014,32975.852399999276 32756.48670000024,32976.97839999944 32758.139600000344,32978.1043999996 32759.792600000277,32979.23039999977 32761.44539999962,32980.35639999993 32763.09839999955,32981.482400000095 32764.751299999654,32982.60840000026 32766.404199999757,32983.73430000059 32768.05719999969,32984.86030000076 32769.71009999979,32985.98630000092 32771.362999999896,32987.11229999922 32773.0159,32988.238299999386 32774.6688000001,32989.36429999955 32776.321800000034,32990.490199999884 32777.97470000014,32991.61620000005 32779.62760000024,32992.74220000021 32781.28060000017,32993.868200000376 32782.933500000276,32994.99410000071 32784.58640000038,32996.12010000087 32786.23940000031,32997.246099999174 32787.892300000414,32998.37209999934 32789.54530000035,32999.49799999967 32791.19820000045,33000.623999999836 32792.85109999962,33001.75 32794.503999999724,33002.875900000334 32796.15699999966,33004.0019000005 32797.80989999976,33005.12780000083 32799.46289999969,33006.25379999913 32801.115799999796,33007.3797999993 32802.76879999973,33008.50569999963 32804.42169999983,33009.631599999964 32806.075000000186,33010.75720000081 32807.72869999986,33011.881999999285 32809.38320000004,33013.0055999998 32811.03880000021,33014.12769999914 32812.69510000013,33015.248700000346 32814.351900000125,33016.36889999919 32816.009800000116,33017.487600000575 32817.66920000035,33018.60400000028 32819.33069999982,33019.71729999967 32820.99399999995,33020.82799999975 32822.658800000325,33021.936400000006 32824.32540000044,33023.042099999264 32825.99409999978,33024.14460000023 32827.66530000046,33025.243200000376 32829.3387000002,33026.33850000054 32831.01400000043,33027.430900000036 32832.691800000146,33028.51960000023 32834.37239999976,33029.60390000045 32836.05630000029,33030.68290000036 32837.743599999696,33031.756699999794 32839.43400000036,33032.82569999993 32841.12729999982,33033.890000000596 32842.82359999977,33034.949599999934 32844.52249999996,33036.0047999993 32846.22640000004,33037.0521000009 32847.935700000264,33038.090500000864 32849.647800000384,33039.12439999916 32851.360100000165,33040.15780000016 32853.08069999982,33041.17750000022 32854.80920000002,33042.183499999344 32856.53749999963,33043.19030000083 32858.26709999982,33044.194599999115 32860.0,33045.19319999963 32861.737999999896,33046.1827000007 32863.48110000044,33047.16310000047 32865.22819999978,33048.136700000614 32866.97919999994,33049.10329999961 32868.73400000017,33050.06310000084 32870.49239999987,33051.01579999924 32872.25459999964,33051.96160000004 32874.0206000004,33052.90049999952 32875.79030000046,33053.83239999972 32877.563699999824,33054.75730000064 32879.34069999959,33055.675000000745 32881.121299999766,33056.585599999875 32882.9057,33057.48909999989 32884.69359999988,33058.38560000062 32886.485100000165,33059.27490000054 32888.28000000026,33060.15709999949 32890.07830000017,33061.03229999915 32891.88009999972,33061.90059999935 32893.68530000001,33062.761700000614 32895.49390000012,33063.615499999374 32897.305999999866,33064.46199999936 32899.121399999596,33065.30100000091 32900.94039999973,33066.13260000013 32902.76269999985,33066.9570000004 32904.588200000115,33067.77419999987 32906.41669999994,33068.58440000005 32908.248300000094,33069.38770000078 32910.082899999805,33070.18410000019 32911.92069999967,33070.97330000065 32913.76159999985,33071.75510000065 32915.60560000036,33072.52940000035 32917.45280000009,33073.29609999992 32919.303199999966,33074.05529999919 32921.15660000034,33074.80700000003 32923.01300000027,33075.55140000023 32924.8722000001,33076.28839999996 32926.73440000042,33077.01810000092 32928.599499999546,33077.740399999544 32930.46740000043,33078.455299999565 32932.338100000285,33079.16290000081 32934.21150000021,33079.863199999556 32936.08750000037,33080.556299999356 32937.966199999675,33081.24230000004 32939.84769999981,33081.92080000043 32941.73190000001,33082.59180000052 32943.61870000046,33083.25500000082 32945.50820000004,33083.91019999981 32947.400600000285,33084.5577000007 32949.29559999984,33085.19769999944 32951.19299999997,33085.830099999905 32953.09269999992,33086.455299999565 32954.99480000045,33087.07340000011 32956.8992999997,33087.68429999985 32958.80620000046,33088.28779999912 32960.7154000001,33088.88350000046 32962.62710000016,33089.471300000325 32964.54119999986,33090.05100000091 32966.457799999975,33090.62280000001 32968.376699999906,33091.18679999933 32970.297799999826,33091.743300000206 32972.22090000007,33092.29230000079 32974.14609999955,33092.83400000073 32976.07349999994,33093.368300000206 32978.00299999956,33093.89499999955 32979.93450000044,33094.414100000635 32981.867999999784,33094.925499999896 32983.8041000003,33095.42659999989 32985.742999999784,33095.917199999094 32987.683500000276,33096.40159999952 32989.62469999958,33096.88370000012 32991.56510000024,33097.368000000715 32993.511800000444,33097.82679999992 32995.45949999988,33098.28140000068 32997.40739999991,33098.73520000093 32999.35639999993,33099.1838000007 33001.30759999994,33099.62270000018 33003.26099999994,33100.05179999955 33005.215900000185,33100.47440000065 33007.17200000025,33100.89110000059 33009.129300000146,33101.30230000056 33011.0876000002,33101.7089000009 33013.04690000042,33102.11020000093 33015.00739999954,33102.50589999929 33016.968899999745,33102.89670000039 33018.93120000046,33103.28309999965 33020.89419999998,33103.6660999991 33022.85800000001,33104.044900000095 33024.82259999961,33104.41909999959 33026.78809999954,33104.789599999785 33028.753999999724,33105.15709999949 33030.72030000016,33105.5223999992 33032.68719999958,33105.88519999944 33034.65460000001,33106.24489999935 33036.62239999976,33106.602099999785 33038.59059999976,33106.95749999955 33040.55900000036,33107.31179999933 33042.52770000044,33107.664400000125 33044.49670000002,33108.01479999907 33046.466000000015,33108.36400000006 33048.43530000001,33108.71289999969 33050.40450000018,33109.06240000017 33052.373599999584,33109.41269999929 33054.34289999958,33109.761700000614 33056.31230000034,33110.11060000025 33058.28160000034,33110.45959999971 33060.250900000334,33110.808599999174 33062.22020000033,33111.15780000016 33064.18950000033,33111.506899999455 33066.158800000325,33111.85600000061 33068.12810000032,33112.205099999905 33070.09740000032,33112.5541999992 33072.066700000316,33112.903400000185 33074.03600000031,33113.25249999948 33076.00530000031,33113.601600000635 33077.974499999546,33113.95069999993 33079.94379999954,33114.29979999922 33081.91309999954,33114.64900000021 33083.88239999954,33114.9980999995 33085.851700000465,33115.34720000066 33087.82100000046,33115.69629999995 33089.79030000046,33116.045399999246 33091.759600000456,33116.39460000023 33093.72890000045,33116.743699999526 33095.69820000045,33117.09280000068 33097.66750000045,33117.441899999976 33099.636800000444,33117.79099999927 33101.60610000044,33118.140200000256 33103.57540000044,33118.48929999955 33105.544700000435,33118.838400000706 33107.51389999967,33119.1875 33109.48319999967,33119.536599999294 33111.452499999665,33119.88580000028 33113.42179999966,33120.234899999574 33115.39109999966,33120.58400000073 33117.360399999656,33120.933100000024 33119.32969999965,33121.28229999915 33121.29899999965,33121.631400000304 33123.26829999965,33121.9804999996 33125.237599999644,33122.329600000754 33127.20689999964,33122.67870000005 33129.17619999964,33123.02789999917 33131.145499999635,33123.37700000033 33133.1146999998,33123.72609999962 33135.0839999998,33124.07520000078 33137.053299999796,33124.4243999999 33139.02259999979,33124.773499999195 33140.99189999979,33125.12260000035 33142.96119999979,33125.471699999645 33144.930499999784,33125.8208000008 33146.89979999978,33126.169999999925 33148.86909999978,33126.51909999922 33150.838399999775,33126.868200000376 33152.80759999994,33127.2173999995 33154.77699999977,33127.566500000656 33156.746199999936,33127.91559999995 33158.71549999993,33128.26469999924 33160.68479999993,33128.6138000004 33162.65409999993,33128.96299999952 33164.623399999924,33129.31210000068 33166.59269999992,33129.66119999997 33168.56199999992,33130.01029999927 33170.531299999915,33130.35950000025 33172.50059999991,33130.70859999955 33174.46989999991,33131.0577000007 33176.439199999906,33131.4068 33178.4084999999,33131.75599999912 33180.3777999999,33132.10510000028 33182.3470999999,33132.45419999957 33184.316300000064,33132.80330000073 33186.28560000006,33133.15249999985 33188.25490000006,33133.501599999145 33190.224200000055,33133.8507000003 33192.19350000005,33134.199899999425 33194.16280000005,33134.54890000075 33196.132100000046,33134.898099999875 33198.10140000004,33135.24719999917 33200.07070000004,33135.596300000325 33202.04000000004,33135.94539999962 33204.009300000034,33136.294600000605 33205.97860000003,33136.6436999999 33207.94790000003,33136.99279999919 33209.917200000025,33137.34190000035 33211.88640000019,33137.69109999947 33213.85570000019,33138.04020000063 33215.825000000186,33138.38929999992 33217.79430000018,33138.738399999216 33219.76360000018,33139.0876000002 33221.73290000018,33139.436699999496 33223.702200000174,33139.78580000065 33225.67150000017,33140.134899999946 33227.64080000017,33140.48399999924 33229.610100000165,33140.83320000023 33231.57940000016,33141.18229999952 33233.54860000033,33141.53140000068 33235.517900000326,33141.8805999998 33237.48730000015,33142.229699999094 33239.45650000032,33142.57880000025 33241.42580000032,33142.927899999544 33243.395100000314,33143.27710000053 33245.36440000031,33143.626199999824 33247.33370000031,33143.97529999912 33250.0159,33144.45079999976 33251.00050000008,33144.62539999932 33251.985199999996,33144.800100000575 33252.96980000008,33144.97470000014 33253.95440000016,33145.1492999997 33254.939100000076,33145.32389999926 33255.92370000016,33145.498400000855 33256.90840000007,33145.67310000025 33257.89300000016,33145.84759999998 33258.87760000024,33146.02229999937 33259.86230000015,33146.196900000796 33260.84690000024,33146.37150000036 33261.83160000015,33146.54609999992 33262.816200000234,33146.72079999931 33263.80080000032,33146.895500000566 33264.7854000004,33147.07019999996 33265.76999999955,33147.24489999935 33266.75459999964,33147.419700000435 33267.73929999955,33147.59439999983 33268.72389999963,33147.76889999956 33269.70859999955,33147.94329999946 33270.69330000039,33148.11769999936 33271.678000000305,33148.292099999264 33272.66260000039,33148.46680000052 33273.64719999954,33148.64169999957 33274.631699999794,33148.81709999964 33275.61610000022,33148.993100000545 33276.60030000005,33149.169700000435 33277.58449999988,33149.346799999475 33278.56869999971,33149.52419999987 33279.552799999714,33149.70189999975 33280.536799999885,33149.87989999913 33281.52070000023,33150.058399999514 33282.50459999964,33150.237400000915 33283.48830000032,33150.417099999264 33284.47190000024,33150.59759999998 33285.455299999565,33150.778799999505 33286.438599999994,33150.960999999195 33287.4216,33151.14440000057 33288.40440000035,33151.32909999974 33289.387000000104,33151.515100000426 33290.36930000037,33151.70189999975 33291.3515999997,33151.88949999958 33292.33380000014,33152.077400000766 33293.31589999981,33152.26559999958 33294.29810000025,33152.45380000025 33295.28029999975,33152.64169999957 33296.262500000186,33152.82919999957 33297.243200000376,33153.02490000054 33298.2237999998,33153.221000000834 33299.20449999999,33153.41660000011 33300.18520000018,33153.61199999973 33301.16590000037,33153.80760000087 33302.1464999998,33154.0036999993 33303.12689999957,33154.2006000001 33304.107099999674,33154.39870000072 33305.08700000029,33154.59840000048 33306.066399999894,33154.799900000915 33307.04550000001,33155.00329999998 33308.02419999987,33155.20849999972 33309.00270000007,33155.4151000008 33309.98080000002,33155.62299999967 33310.95870000031,33155.83190000057 33311.936499999836,33156.04179999977 33312.91399999987,33156.25249999948 33313.89149999991,33156.4637000002 33314.86890000012,33156.675300000235 33315.84619999956,33156.887099999934 33316.82330000028,33157.0998999998 33317.79970000032,33157.31579999998 33318.775600000285,33157.534099999815 33319.751199999824,33157.75379999913 33320.7265999997,33157.97389999963 33321.702100000344,33158.193900000304 33322.677600000054,33158.414100000635 33323.65280000027,33158.63529999927 33324.62770000007,33158.857899999246 33325.602199999616,33159.08259999938 33326.57610000018,33159.30949999951 33327.54989999998,33159.53680000082 33328.52359999996,33159.76469999924 33329.4972000001,33159.993000000715 33330.47070000041,33160.221799999475 33331.444000000134,33160.45109999925 33332.417200000025,33160.680999999866 33333.39030000009,33160.91139999963 33334.36330000032,33161.142400000244 33335.33609999996,33161.373999999836 33336.308699999936,33161.6063000001 33337.281200000085,33161.8395000007 33338.25339999981,33162.07340000011 33339.22549999971,33162.30790000036 33340.19749999978,33162.5429999996 33341.16940000001,33162.778400000185 33342.14120000042,33163.01410000026 33343.113099999726,33163.24990000017 33344.0848000003,33163.48570000008 33345.05669999961,33163.721499999985 33346.028400000185,33163.95729999989 33347.0,33164.193900000304 33347.971499999985,33164.431099999696 33348.94290000014,33164.66850000061 33349.914400000125,33164.90560000017 33350.88599999994,33165.142500000075 33351.857499999925,33165.37959999964 33352.82899999991,33165.61649999954 33353.800599999726,33165.85319999978 33354.7723000003,33166.08919999935 33355.74419999961,33166.324699999765 33356.716000000015,33166.56039999984 33357.68780000042,33166.79609999992 33358.65969999973,33167.0318 33359.631500000134,33167.267400000244 33360.6035000002,33167.50259999931 33361.57550000027,33167.73729999922 33362.547699999996,33167.971499999985 33363.520100000314,33168.205000000075 33364.49260000046,33168.43759999983 33365.4654000001,33168.66929999925 33366.438400000334,33168.90029999986 33367.411500000395,33169.13069999963 33368.384800000116,33169.36040000059 33369.35809999984,33169.58960000053 33370.33169999998,33169.81819999963 33371.305300000124,33170.04639999941 33372.2790000001,33170.27419999987 33373.2527999999,33170.501599999145 33374.226700000465,33170.7285999991 33375.20069999993,33170.954900000244 33376.175300000235,33171.17909999937 33377.15020000003,33171.40149999969 33378.12550000008,33171.62270000018 33379.10089999996,33171.84300000034 33380.07639999967,33172.06310000084 33381.05200000014,33172.28280000016 33382.02770000044,33172.501599999145 33383.003999999724,33172.71839999966 33383.98070000019,33172.9327000007 33384.957999999635,33173.14440000057 33385.93539999984,33173.35590000078 33386.91289999988,33173.566899999976 33387.89049999975,33173.77749999985 33388.868300000206,33173.987400000915 33389.84609999973,33174.19649999961 33390.824300000444,33174.40460000001 33391.802600000054,33174.61160000041 33392.781200000085,33174.8172999993 33393.76009999961,33175.0214000009 33394.73940000031,33175.22389999963 33395.71910000034,33175.4243999999 33396.69909999985,33175.62319999933 33397.67939999979,33175.82069999911 33398.66000000015,33176.017100000754 33399.64059999958,33176.21289999969 33400.621399999596,33176.40829999931 33401.602099999785,33176.60370000079 33402.582799999975,33176.79949999973 33403.56329999957,33176.995899999514 33404.544800000265,33177.18710000068 33405.5270999996,33177.37439999916 33406.509399999864,33177.56210000068 33407.49149999954,33177.74990000017 33408.4737999998,33177.93769999966 33409.45610000007,33178.12509999983 33410.438400000334,33178.31200000085 33411.42100000009,33178.49819999933 33412.403699999675,33178.683399999514 33413.38659999985,33178.8674999997 33414.36969999969,33179.050200000405 33415.35300000012,33179.232100000605 33416.33650000021,33179.41300000064 33417.32010000013,33179.5932 33418.30389999971,33179.772800000384 33419.28780000005,33179.95170000009 33420.27170000039,33180.13010000065 33421.25580000039,33180.308000000194 33422.23990000039,33180.48560000025 33423.224000000395,33180.66300000064 33423.4112999998,33180.69669999927\" opacity=\"0.8\" /></g></svg>"
      ],
      "text/plain": [
       "<shapely.geometry.linestring.LineString at 0x1250d2410>"
      ]
     },
     "execution_count": 87,
     "metadata": {},
     "output_type": "execute_result"
    }
   ],
   "source": [
    "data['geometry'][632]"
   ]
  },
  {
   "cell_type": "code",
   "execution_count": 86,
   "metadata": {},
   "outputs": [
    {
     "data": {
      "image/svg+xml": [
       "<svg xmlns=\"http://www.w3.org/2000/svg\" xmlns:xlink=\"http://www.w3.org/1999/xlink\" width=\"100.0\" height=\"100.0\" viewBox=\"103.87465268112818 1.313453259883029 0.007682537740024031 0.003179753357974935\" preserveAspectRatio=\"xMinYMin meet\"><g transform=\"matrix(1,0,0,-1,0,2.630086273124033)\"><g><polyline fill=\"none\" stroke=\"#66cc99\" stroke-width=\"0.00015365075480048063\" points=\"103.8820506804334,1.316348474806188 103.8820489974424,1.316348170068499 103.8820401547758,1.316346565899948 103.8820313121091,1.31634495992264 103.8820224694425,1.316343351232212 103.8820136285728,1.316341738019885 103.882004787703,1.316340120285712 103.8819959477317,1.316338496220933 103.8819871095574,1.31633686672991 103.8819782722816,1.31633523090828 103.8819694368026,1.316333586042939 103.8819606031207,1.31633193394261 103.8819517712356,1.316330269181118 103.8819429411474,1.316328594471551 103.8819341119577,1.316326910718306 103.8819252854634,1.316325220634403 103.8819164589691,1.316323526028655 103.8819076324747,1.316321827805422 103.8818988077775,1.316320129582123 103.8818899812831,1.316318432263173 103.8818811547889,1.316316738561676 103.8818723354823,1.316315009589772 103.8818635251604,1.316313233590726 103.8818547130415,1.316311463017877 103.8818459009227,1.316309696062431 103.8818370879053,1.316307929106988 103.881828276685,1.316306158534026 103.8818194654646,1.316304382534822 103.8818106569397,1.316302596587542 103.8818018511101,1.316300798883444 103.881793047976,1.31629898580506 103.8817842484357,1.316297154639301 103.8817754524894,1.316295309003584 103.8817666592384,1.316293448897977 103.8817578686829,1.316291577035535 103.8817490790258,1.316289695225037 103.8817402929627,1.316287804370808 103.8817315068994,1.316285906281611 103.8817227226332,1.316284001861808 103.8817139392654,1.316282093824504 103.8817051567961,1.31628018126532 103.8816963752254,1.316278266897361 103.8816875990455,1.316276329015782 103.8816788264594,1.316274368524996 103.8816700592643,1.3162723899468 103.8816612929675,1.316270403229273 103.8816525275693,1.316268412894229 103.8816437630696,1.31626642075041 103.8816349994683,1.316264420467259 103.881626239461,1.316262409331637 103.881617482149,1.316260381917382 103.881608730228,1.316258335511322 103.8815999792055,1.316256282774672 103.8815912290814,1.316254226420522 103.8815824798558,1.316252166448856 103.8815737315288,1.316250102859688 103.8815649832016,1.316248035653038 103.8815562375701,1.31624596302011 103.8815474919384,1.316243885865321 103.8815387481038,1.316241802379924 103.8815300051676,1.316239713468285 103.8815212640284,1.31623761822604 103.8815125255847,1.316235514844429 103.8815037880394,1.316233403323486 103.8814950522911,1.316231285471921 103.8814863183399,1.316229163098475 103.8814775843885,1.316227036203184 103.8814688522343,1.316224905690359 103.8814601191814,1.316222774273156 103.8814513870271,1.316220642855905 103.8814426548729,1.316218511438622 103.8814339218201,1.316216381830052 103.8814251905644,1.3162142476996 103.8814164602071,1.316212107238544 103.8814077307483,1.316209964968713 103.8813990012895,1.316207820890124 103.8813902709322,1.316205678620248 103.8813815414735,1.316203534541597 103.8813728129132,1.316201387749793 103.8813640834545,1.316199242766717 103.8813553530973,1.316197103209803 103.8813466218417,1.316194970887796 103.8813378887891,1.316192838565792 103.8813291575335,1.316190706243722 103.8813204244809,1.316188573921654 103.8813116923268,1.316186442503902 103.8813029592743,1.316184313799224 103.8812942253233,1.316182187807637 103.8812854904738,1.316180067242213 103.8812767547259,1.316177952102969 103.8812680162825,1.316175843294285 103.8812592769407,1.31617374262487 103.881250535802,1.316171648286015 103.8812417928662,1.31616955937334 103.8812330490321,1.316167475886845 103.8812243042994,1.316165396922151 103.8812155586684,1.316163323383635 103.8812068112403,1.316161254366954 103.8811980629138,1.316159189872057 103.8811893136888,1.31615712899463 103.8811805635654,1.316155073543349 103.8811718125435,1.316153021709523 103.8811630561307,1.316150989771785 103.8811542961241,1.316148976825738 103.8811455334221,1.316146976540825 103.8811367680246,1.31614498529956 103.8811280026272,1.31614299586699 103.8811192381283,1.316141005530008 103.8811104718324,1.316139018810498 103.8811017028411,1.316137044752104 103.8810929293575,1.316135092398507 103.8810841495845,1.316133168080298 103.8810753680147,1.316131252805737 103.8810665855463,1.316129339339888 103.8810578021795,1.316127429491475 103.8810490188128,1.316125524164862 103.8810402327505,1.316123626073188 103.8810314457899,1.316121737025129 103.8810226570324,1.316119857020735 103.8810138646809,1.316117988773095 103.8810050705326,1.316116133186571 103.8809962727904,1.316114293878649 103.8809874723528,1.316112471753658 103.8809786674229,1.316110665907286 103.8809698597976,1.316108874530757 103.8809610503754,1.316107094006601 103.8809522391562,1.316105320717384 103.8809434270386,1.31610355194995 103.8809346149211,1.316101784991227 103.8809258028035,1.316100016223747 103.8809169915843,1.316098242934386 103.8809081794668,1.316096473262462 103.8808993538723,1.316094777748652 103.8808905282779,1.316093078617359 103.8808817026833,1.316091376772929 103.8808728779874,1.316089674928467 103.8808640523929,1.316087975797061 103.8808552259,1.316086279378746 103.8808463994072,1.316084590195319 103.8808375702189,1.316082908246815 103.8808287392338,1.316081238055063 103.8808199064518,1.316079579620031 103.8808110709743,1.316077932037406 103.8808022345985,1.316076293498412 103.8807933964256,1.31607466128996 103.8807845573544,1.31607303631643 103.8807757164863,1.316071417673425 103.8807668756182,1.316069803552219 103.8807580338517,1.31606819395283 103.8807491911866,1.316066587066514 103.8807403476231,1.316064982893272 103.8807315040597,1.316063381433104 103.8807226604963,1.316061784494717 103.880713815136,1.31606019298251 103.8807049688772,1.316058606896482 103.88069612172,1.31605702533227 103.8806872745628,1.316055445576735 103.8806784265071,1.316053868534291 103.8806695784514,1.316052291491815 103.8806607303957,1.316050714449306 103.8806518832386,1.316049136502386 103.8806430351829,1.316047556746725 103.8806341880258,1.316045976086635 103.8806253408687,1.316044396330893 103.8806164937115,1.316042816575119 103.8806076465544,1.316041236819296 103.8805987993974,1.316039657063458 103.8805899513417,1.316038078211968 103.8805811041847,1.316036499360428 103.8805722561291,1.316034920508857 103.880563408972,1.316033340752891 103.880554561815,1.316031762805619 103.8805457137594,1.316030183049606 103.8805368666024,1.316028605102252 103.8805280185469,1.316027026250538 103.8805191713899,1.316025447398775 103.8805103242329,1.316023868546979 103.8805014761774,1.31602228879079 103.8804926290205,1.31602070993893 103.8804685280208,1.31601641014473 103.8804508328084,1.316013253345121 103.8804331375961,1.316010096545384 103.8804154423838,1.316006938841139 103.8803977471715,1.316003782041146 103.8803800528579,1.316000625240991 103.8803623567472,1.315997468440759 103.8803446615351,1.315994310736019 103.8803269672215,1.31599115393548 103.8803092720095,1.315987997134846 103.8802915767975,1.315984839429705 103.8802738815855,1.315981682628816 103.8802561863736,1.315978525827799 103.8802384911617,1.315975369026637 103.8802207959499,1.315972212225363 103.8802031007381,1.315969054519582 103.8801854055263,1.315965897718053 103.8801677103146,1.315962740916396 103.8801500151029,1.315959584114594 103.8801323207898,1.315956426408301 103.8801146255782,1.315953269606242 103.8800969303667,1.315950112804073 103.8800792351552,1.315946956001776 103.8800615399437,1.31594379829497 103.8800438447322,1.315940641492417 103.8800261495208,1.315937484689719 103.8800084543095,1.31593432788691 103.8799907590981,1.31593117017961 103.8799730638869,1.315928014280891 103.8799553686756,1.315924856573334 103.8799376734644,1.315921699769996 103.8799199782533,1.315918542966547 103.8799022830421,1.315915385258607 103.8798845887296,1.315912228454868 103.8798668935186,1.315909071651035 103.8798491983076,1.315905914847056 103.8798315030966,1.315902757138604 103.8798138078857,1.315899600334387 103.8797961126748,1.315896443530025 103.879778417464,1.315893286725552 103.8797607222532,1.315890129016571 103.8797430270424,1.315886972211842 103.8797253318317,1.315883815406985 103.8797076366211,1.315880658601983 103.8796899414104,1.315877500892507 103.8796722461998,1.315874344087249 103.8796545509893,1.31587118728188 103.8796368566773,1.315868030476366 103.8796191605683,1.315864873670741 103.8796014662564,1.315861715960609 103.879583771046,1.315858559154711 103.8795660758356,1.315855402348702 103.8795483806253,1.315852244638202 103.8795306854151,1.31584908783192 103.8795129902048,1.315845931025528 103.8794952949946,1.31584277421899 103.8794775997845,1.315839617412341 103.8794599045744,1.315836459701201 103.8794422093643,1.31583330289428 103.8794245150528,1.31583014608723 103.8794068198428,1.315826989280053 103.8793891246329,1.315823831568401 103.879371429423,1.315820674760985 103.8793537342131,1.315817517953424 103.8793360390032,1.315814361145751 103.8793183437935,1.315811204337934 103.8793006485837,1.315808046625643 103.879282953374,1.315804889817586 103.8792652581643,1.315801733009385 103.8792475629547,1.315798576201072 103.8792298677451,1.315795418488253 103.8792121725355,1.315792261679685 103.8791944782246,1.315789104870972 103.8791767830151,1.315785948062131 103.8791590878057,1.315782791253179 103.8791413925963,1.315779633539719 103.8791236973869,1.315776476730511 103.8791060021776,1.315773319921175 103.8790883069684,1.315770163111695 103.8790706117592,1.315767006302103 103.87905291655,1.315763848588003 103.8790352213408,1.315760691778156 103.8790175261317,1.31575753496818 103.8789998309226,1.315754378158059 103.8789821357136,1.315751221347828 103.8789644405046,1.315748063633089 103.8789467452957,1.315744906822601 103.8789290509853,1.315741750011969 103.8789113557765,1.315738593201209 103.8788936605676,1.315735436390338 103.8788759653588,1.315732278674959 103.8788582701501,1.315729121863832 103.8788405749414,1.315725965052577 103.8788228797327,1.315722808241177 103.8788051845241,1.315719651429666 103.8787874893155,1.315716493713647 103.878769794107,1.315713337806243 103.8787520988985,1.315710181898712 103.8787344027915,1.315707026895431 103.8787167075831,1.315703870987626 103.8786990141716,1.315700703322944 103.8786813198618,1.315697542893053 103.8786636246535,1.315694387889244 103.8786459294453,1.315691230172202 103.8786282369325,1.315688061602628 103.878610547115,1.315684873136844 103.878592859993,1.315681669296697 103.8785751746679,1.315678455508381 103.8785574929368,1.315675225441306 103.8785398147995,1.315671972764932 103.8785221411545,1.31566869205305 103.8785044729005,1.315665388731836 103.8784868082403,1.315662065514412 103.8784691471739,1.315658715165858 103.8784514941938,1.315655331355553 103.8784338484015,1.315651905944214 103.878416209797,1.315648442549325 103.8783985774818,1.315644948405807 103.8783809523543,1.31564141446998 103.8783633362115,1.315637836220031 103.8783457308506,1.315634207325338 103.8783281344743,1.315630530499038 103.8783105470828,1.315626812071689 103.878292970473,1.315623043903976 103.878275404645,1.31561922237843 103.8782578522942,1.315615342068843 103.87824031971,1.315611373131058 103.8782228068924,1.315607316469438 103.8782053039581,1.31560321278056 103.8781878028208,1.315599101856604 103.8781703106683,1.315594952949069 103.8781528751205,1.315590573427448 103.8781354323846,1.315586213801848 103.8781179959383,1.31558183337563 103.8781005738679,1.315577396878446 103.8780831769552,1.315572865422412 103.8780658034033,1.315568240816304 103.8780484478211,1.315563546573672 103.8780311102089,1.315558783598912 103.878013791465,1.315553951891992 103.8779964924881,1.315549053261621 103.8779792123796,1.31554408861218 103.877961950241,1.315539056134958 103.8779447078694,1.315533955829942 103.8779274861632,1.315528784984008 103.8779102869196,1.315523542692746 103.87789310924,1.315518227147464 103.8778759540229,1.315512840156854 103.8778588194713,1.315507382625346 103.8778417064838,1.315501858170358 103.8778246150604,1.315496268600618 103.8778075452012,1.315490614820504 103.8777904960075,1.315484895925654 103.8777734683779,1.315479108298618 103.8777564641095,1.315473252843692 103.8777394858979,1.315467327752138 103.8777225319459,1.315461330310864 103.8777056013551,1.315455262328631 103.877688695024,1.315449126518511 103.8776718138512,1.315442922880488 103.8776549569382,1.315436655032049 103.8776381233865,1.315430322068845 103.8776213140945,1.315423923086466 103.8776045299608,1.315417458084928 103.8775877709855,1.315410926159871 103.877571038067,1.315404327311243 103.877554332104,1.315397662443427 103.8775376512992,1.315390930652076 103.8775209974499,1.315384132841519 103.877504370556,1.31537726720305 103.8774877724146,1.31537033373662 103.8774712030257,1.315363331537867 103.8774546614907,1.315356261511169 103.8774381478097,1.31534912456089 103.8774216628813,1.315341922495758 103.8774052049083,1.315334658028877 103.8773887747895,1.315327331160247 103.8773723716261,1.315319940985523 103.8773559972152,1.315312485695932 103.8773396524555,1.315304965291472 103.8773233400425,1.31529737796334 103.8773070572806,1.315289722807252 103.8772908059668,1.315282001631905 103.8772745852027,1.31527421443728 103.8772583949883,1.315266362127776 103.8772422362222,1.315258447416464 103.8772261080057,1.315250469398999 103.8772100103389,1.315242427171002 103.8771939450189,1.315234319828078 103.8771779111472,1.315226149178987 103.8771619114193,1.315217914319319 103.8771459440383,1.315209615249088 103.877130009004,1.315201251063934 103.877114107215,1.315192823572583 103.8770982386714,1.315184332775035 103.8770824042718,1.315175779575623 103.877066604016,1.315167163974379 103.8770508361071,1.315158484162559 103.8770351023421,1.315149742853273 103.8770194036195,1.315140938237745 103.877003740838,1.315132072124703 103.8769881238813,1.315123123713577 103.8769725527492,1.315114093004382 103.8769570112686,1.315105010745813 103.8769414814688,1.315095905877796 103.8769259498721,1.315086808244646 103.8769104892589,1.315077586712212 103.8768951032233,1.315068241280432 103.8768797189848,1.315058891326722 103.8768643599051,1.315049500676057 103.8768490493459,1.315040029535991 103.876833783713,1.315030486950269 103.8768185414419,1.315020904572003 103.8768033261267,1.315011279688027 103.8767881368688,1.315001612298373 103.8767729754653,1.314991901498647 103.8767578446118,1.314982143671334 103.8767427434097,1.314972337912087 103.8767276673665,1.314962492360269 103.8767126137866,1.314952613346483 103.8766975772787,1.314942708105729 103.8766825605386,1.314932773020507 103.8766675662618,1.314922802664577 103.8766525908541,1.314912803368575 103.87663763162,1.314902779654347 103.8766226858639,1.314892735139408 103.8766077562814,1.314882667110624 103.8765928455682,1.314872571046115 103.8765779483329,1.31486245418088 103.8765630609816,1.314852323749934 103.876548178123,1.31484218608388 103.8765333015542,1.31483203846963 103.8765184348694,1.314821877289636 103.8765035753728,1.314811705257069 103.8764887194705,1.314801525989408 103.8764738671625,1.314791344008503 103.876459013956,1.314781162027519 103.8764441616481,1.314770979142063 103.8764293084419,1.314760796256546 103.8764144561343,1.314750614275266 103.8763996029283,1.314740431389544 103.8763847506209,1.314730249408076 103.8763698983137,1.314720066522152 103.8763550460066,1.314709883636134 103.876340192801,1.3146997016544 103.8763253404942,1.314689518768194 103.8763104872888,1.314679335881927 103.8762956349822,1.314669152995534 103.8762807826757,1.31465897101341 103.8762659294707,1.314648788126845 103.8762510771645,1.31463860524017 103.8762362248583,1.314628422353402 103.8762213716537,1.314618240370919 103.8762065193478,1.314608057483963 103.876191667042,1.314597874596914 103.8761768147363,1.314587691709788 103.8761619624307,1.314577508822551 103.8761471092267,1.314567325935236 103.8761322569214,1.314557143952175 103.8761174046161,1.314546961064657 103.8761025514125,1.314536778177061 103.8760877000061,1.314526595289341 103.8760728468026,1.314516412401557 103.8760579944979,1.314506229513665 103.8760431421933,1.314496046625679 103.8760282898888,1.314485863737599 103.8760134375844,1.314475680849442 103.8759985843816,1.31446549796119 103.8759837320774,1.314455315072829 103.8759688797734,1.314445132184375 103.8759540274695,1.314434949295826 103.8759391751657,1.314424766407184 103.875924322862,1.314414583518448 103.8759094705585,1.314404400629619 103.875894618255,1.314394217740696 103.8758797659517,1.31438403485168 103.87586491275,1.314373851962585 103.8758500604469,1.314363669073398 103.8758352081439,1.3143534861841 103.8758203558411,1.314343303294709 103.8758055035383,1.314333119500861 103.8757906512357,1.314322936611282 103.8757757989332,1.31431275372161 103.8757609466309,1.314302570831844 103.8757460943286,1.314292387941984 103.8757312420265,1.314282205052031 103.8757163897245,1.314272022161984 103.8757015374226,1.314261838367481 103.8756866851208,1.314251655477247 103.8756718328191,1.314241472586919 103.8756569805176,1.314231289696498 103.8756421282162,1.314221106806 103.8756272759149,1.314210923915391 103.8756124236137,1.314200740120326 103.8755975713126,1.31419055722953 103.8755827190117,1.31418037433864 103.8755678667109,1.314170190543294 103.8755530144101,1.314160007652217 103.8755381621096,1.314149824761047 103.8755233098091,1.314139641869783 103.8755084575087,1.314129458978425 103.8754936052085,1.314119275182611 103.8754787529084,1.314109092291066 103.8754639006084,1.314098909399428 103.8754490483085,1.314088725603333 103.8754341960088,1.314078542711507 103.8754193446077,1.31406835981959 103.8754044923082,1.314058176023214 103.8753896400088,1.314047993131107 103.8753747877095,1.314037810238907 103.8753599354103,1.314027627346614 103.8753450831113,1.314017443549864 103.8753302308123,1.314007260657383 103.8753153785135,1.313997077764809 103.8753005262148,1.313986893967777 103.8752856739163,1.313976711075016 103.8752708216178,1.313966527277798 103.8752559693195,1.313956344384849 103.8752411170213,1.313946161491807 103.8752262656217,1.313935978598656 103.8752114133237,1.313925794801063 103.8751965610259,1.31391561190774 103.8751817087281,1.313905429014324 103.8751668564305,1.313895245216451 103.875152004133,1.313885062322864 103.8751371518356,1.313874878524804 103.8751222995384,1.313864695631013 103.8751074472412,1.313854512737128 103.8750925958427,1.313844328938773 103.8750777426473,1.313834146044716 103.875062891249,1.313823963150536 103.8750480389523,1.313813779351914 103.8750331866558,1.313803596457562 103.8750183343594,1.313793413563117 103.8750034820631,1.313783229764214 103.8749886297669,1.313773046869582 103.8749737774708,1.313762863070492 103.8749589260734,1.313752680175657 103.874944072879,1.313742497280759 103.874937219563,1.313737798317845\" opacity=\"0.8\" /></g></g></svg>"
      ],
      "text/plain": [
       "<shapely.geometry.multilinestring.MultiLineString at 0x1107d2710>"
      ]
     },
     "execution_count": 86,
     "metadata": {},
     "output_type": "execute_result"
    }
   ],
   "source": [
    "df['geometry'][631]"
   ]
  },
  {
   "cell_type": "code",
   "execution_count": 68,
   "metadata": {},
   "outputs": [
    {
     "data": {
      "text/plain": [
       "0       False\n",
       "1       False\n",
       "2       False\n",
       "3       False\n",
       "4       False\n",
       "        ...  \n",
       "1392    False\n",
       "1393    False\n",
       "1394    False\n",
       "1395    False\n",
       "1396    False\n",
       "Name: geometry, Length: 1397, dtype: bool"
      ]
     },
     "execution_count": 68,
     "metadata": {},
     "output_type": "execute_result"
    }
   ],
   "source": [
    "df['geometry'] == data['geometry'][:1397]"
   ]
  },
  {
   "cell_type": "code",
   "execution_count": null,
   "metadata": {},
   "outputs": [],
   "source": []
  },
  {
   "cell_type": "code",
   "execution_count": null,
   "metadata": {},
   "outputs": [],
   "source": []
  },
  {
   "cell_type": "code",
   "execution_count": null,
   "metadata": {},
   "outputs": [],
   "source": []
  },
  {
   "cell_type": "code",
   "execution_count": null,
   "metadata": {},
   "outputs": [],
   "source": []
  },
  {
   "cell_type": "code",
   "execution_count": null,
   "metadata": {},
   "outputs": [],
   "source": [
    "coba = data"
   ]
  }
 ],
 "metadata": {
  "kernelspec": {
   "display_name": "Python 3",
   "language": "python",
   "name": "python3"
  },
  "language_info": {
   "codemirror_mode": {
    "name": "ipython",
    "version": 3
   },
   "file_extension": ".py",
   "mimetype": "text/x-python",
   "name": "python",
   "nbconvert_exporter": "python",
   "pygments_lexer": "ipython3",
   "version": "3.7.6"
  }
 },
 "nbformat": 4,
 "nbformat_minor": 2
}
